{
  "nbformat": 4,
  "nbformat_minor": 0,
  "metadata": {
    "colab": {
      "provenance": [],
      "authorship_tag": "ABX9TyOvZGh9AwYImlbTSsIjVUFF"
    },
    "kernelspec": {
      "name": "python3",
      "display_name": "Python 3"
    },
    "language_info": {
      "name": "python"
    }
  },
  "cells": [
    {
      "cell_type": "markdown",
      "source": [
        "# CODECLAUSE DATA SCIENCE INTERSHIP PROGRAM\n",
        "\n",
        "\n",
        "\n",
        "---\n",
        "\n",
        "\n",
        "**AUTHOR - Nikhil Eshwar T**\n",
        "\n",
        "\n",
        "\n",
        "**TASK 1 - Color Detection**"
      ],
      "metadata": {
        "id": "l0D3zSsdxcLA"
      }
    },
    {
      "cell_type": "markdown",
      "source": [
        "Importing Necessary Libraries"
      ],
      "metadata": {
        "id": "BaZfpHuDViSq"
      }
    },
    {
      "cell_type": "code",
      "execution_count": null,
      "metadata": {
        "id": "6xCp9IpURbuP"
      },
      "outputs": [],
      "source": [
        "import numpy as np\n",
        "import pandas as pd\n",
        "import matplotlib.pyplot as plt\n",
        "import seaborn as sns\n",
        "import cv2\n",
        "import json\n",
        "import plotly.express as px\n",
        "import os\n",
        "from PIL import Image\n",
        "import xgboost as xgb\n",
        "from mpl_toolkits import mplot3d\n",
        "from matplotlib import pyplot as plt\n",
        "from sklearn.model_selection import train_test_split\n",
        "from sklearn.neighbors import KNeighborsClassifier\n",
        "from sklearn.metrics import accuracy_score"
      ]
    },
    {
      "cell_type": "markdown",
      "source": [
        "Accessing Data from Kaggle API"
      ],
      "metadata": {
        "id": "rMmeL4lKVnKT"
      }
    },
    {
      "cell_type": "code",
      "source": [
        "#Open and read the JSON file\n",
        "with open('kaggle (1).json', 'r') as json_file:\n",
        "    data = json.load(json_file)\n",
        "\n",
        "#Access specific values from the loaded JSON data\n",
        "username = data['username']\n",
        "key= data['key']"
      ],
      "metadata": {
        "id": "7sayNQn5SZKV"
      },
      "execution_count": null,
      "outputs": []
    },
    {
      "cell_type": "code",
      "source": [
        "os.environ['KAGGLE_USERNAME'] =username\n",
        "os.environ['KAGGLE_KEY'] =key"
      ],
      "metadata": {
        "id": "eZvquVBeTPK-"
      },
      "execution_count": null,
      "outputs": []
    },
    {
      "cell_type": "markdown",
      "source": [
        "Downloading the Dataset"
      ],
      "metadata": {
        "id": "sXXco7YlVq1m"
      }
    },
    {
      "cell_type": "code",
      "source": [
        "!kaggle datasets download -d adikurniawan/color-dataset-for-color-recognition --force"
      ],
      "metadata": {
        "colab": {
          "base_uri": "https://localhost:8080/"
        },
        "id": "LI2KxAqKTR_Z",
        "outputId": "44c2575c-b32b-4825-ae49-71e869d44053"
      },
      "execution_count": null,
      "outputs": [
        {
          "output_type": "stream",
          "name": "stdout",
          "text": [
            "Downloading color-dataset-for-color-recognition.zip to /content\n",
            "\r  0% 0.00/6.84M [00:00<?, ?B/s]\n",
            "\r100% 6.84M/6.84M [00:00<00:00, 267MB/s]\n"
          ]
        }
      ]
    },
    {
      "cell_type": "code",
      "source": [
        "!unzip color-dataset-for-color-recognition.zip"
      ],
      "metadata": {
        "colab": {
          "base_uri": "https://localhost:8080/"
        },
        "id": "-VWv_6OLTskw",
        "outputId": "fb5d0b77-81d3-4a7f-994e-0869c296655f"
      },
      "execution_count": null,
      "outputs": [
        {
          "output_type": "stream",
          "name": "stdout",
          "text": [
            "Archive:  color-dataset-for-color-recognition.zip\n",
            "  inflating: training_dataset/black/0a0502.png  \n",
            "  inflating: training_dataset/black/110011.png  \n",
            "  inflating: training_dataset/black/1d1817.png  \n",
            "  inflating: training_dataset/black/black1.png  \n",
            "  inflating: training_dataset/black/black10.png  \n",
            "  inflating: training_dataset/black/black11.png  \n",
            "  inflating: training_dataset/black/black12.png  \n",
            "  inflating: training_dataset/black/black13.png  \n",
            "  inflating: training_dataset/black/black14.png  \n",
            "  inflating: training_dataset/black/black15.png  \n",
            "  inflating: training_dataset/black/black16.png  \n",
            "  inflating: training_dataset/black/black17.png  \n",
            "  inflating: training_dataset/black/black18.png  \n",
            "  inflating: training_dataset/black/black19-.png  \n",
            "  inflating: training_dataset/black/black2.jpg  \n",
            "  inflating: training_dataset/black/black20.png  \n",
            "  inflating: training_dataset/black/black21.jpg  \n",
            "  inflating: training_dataset/black/black22.png  \n",
            "  inflating: training_dataset/black/black3.png  \n",
            "  inflating: training_dataset/black/black4.jpg  \n",
            "  inflating: training_dataset/black/black5.jpg  \n",
            "  inflating: training_dataset/black/black6.png  \n",
            "  inflating: training_dataset/black/black7.jpg  \n",
            "  inflating: training_dataset/black/black8.jpg  \n",
            "  inflating: training_dataset/black/black9.jpg  \n",
            "  inflating: training_dataset/blue/0000ff.png  \n",
            "  inflating: training_dataset/blue/003377.png  \n",
            "  inflating: training_dataset/blue/0048ba.png  \n",
            "  inflating: training_dataset/blue/0075b3.png  \n",
            "  inflating: training_dataset/blue/0077b3.png  \n",
            "  inflating: training_dataset/blue/007fff.png  \n",
            "  inflating: training_dataset/blue/01386a.png  \n",
            "  inflating: training_dataset/blue/0165fc.png  \n",
            "  inflating: training_dataset/blue/020035.png  \n",
            "  inflating: training_dataset/blue/062a78.png  \n",
            "  inflating: training_dataset/blue/0cbfe9.png  \n",
            "  inflating: training_dataset/blue/0f3b57.png  \n",
            "  inflating: training_dataset/blue/1974d2.png  \n",
            "  inflating: training_dataset/blue/1ac1dd.png  \n",
            "  inflating: training_dataset/blue/2282a8.png  \n",
            "  inflating: training_dataset/blue/24a0ed.png  \n",
            "  inflating: training_dataset/blue/41fdfe.png  \n",
            "  inflating: training_dataset/blue/4f738e.png  \n",
            "  inflating: training_dataset/blue/6da9d2.png  \n",
            "  inflating: training_dataset/blue/84addb.png  \n",
            "  inflating: training_dataset/blue/blue1.jpg  \n",
            "  inflating: training_dataset/blue/blue2.jpg  \n",
            "  inflating: training_dataset/blue/blue3.png  \n",
            "  inflating: training_dataset/blue/blue4.jpg  \n",
            "  inflating: training_dataset/blue/blue5.JPG  \n",
            "  inflating: training_dataset/brown/4a2c2a.png  \n",
            "  inflating: training_dataset/brown/593c39.png  \n",
            "  inflating: training_dataset/brown/6f4e37.png  \n",
            "  inflating: training_dataset/brown/73624a.png  \n",
            "  inflating: training_dataset/brown/7a6a4f.png  \n",
            "  inflating: training_dataset/brown/7b3f00.png  \n",
            "  inflating: training_dataset/brown/7e392f.png  \n",
            "  inflating: training_dataset/brown/7f6244.png  \n",
            "  inflating: training_dataset/brown/855e42.png  \n",
            "  inflating: training_dataset/brown/876e4b.png  \n",
            "  inflating: training_dataset/brown/954535.png  \n",
            "  inflating: training_dataset/brown/964b00.png  \n",
            "  inflating: training_dataset/brown/98623c.png  \n",
            "  inflating: training_dataset/brown/996633.png  \n",
            "  inflating: training_dataset/brown/9e5b40.png  \n",
            "  inflating: training_dataset/brown/9f7d4f.png  \n",
            "  inflating: training_dataset/brown/9f8170.png  \n",
            "  inflating: training_dataset/brown/a17249.png  \n",
            "  inflating: training_dataset/brown/a87900.png  \n",
            "  inflating: training_dataset/brown/b0724a.png  \n",
            "  inflating: training_dataset/brown/b69e87.png  \n",
            "  inflating: training_dataset/brown/b87a59.png  \n",
            "  inflating: training_dataset/brown/bb8855.png  \n",
            "  inflating: training_dataset/brown/cc8833.png  \n",
            "  inflating: training_dataset/brown/e2c28e.png  \n",
            "  inflating: training_dataset/green/006400.png  \n",
            "  inflating: training_dataset/green/006b3c.png  \n",
            "  inflating: training_dataset/green/033500.png  \n",
            "  inflating: training_dataset/green/11574a.png  \n",
            "  inflating: training_dataset/green/33b864.png  \n",
            "  inflating: training_dataset/green/3c8d0d.png  \n",
            "  inflating: training_dataset/green/54ac68.png  \n",
            "  inflating: training_dataset/green/568203.png  \n",
            "  inflating: training_dataset/green/66cdaa.png  \n",
            "  inflating: training_dataset/green/66ff00.png  \n",
            "  inflating: training_dataset/green/76b583.png  \n",
            "  inflating: training_dataset/green/green1.jpg  \n",
            "  inflating: training_dataset/green/green1.png  \n",
            "  inflating: training_dataset/green/green10.png  \n",
            "  inflating: training_dataset/green/green11-.jpg  \n",
            "  inflating: training_dataset/green/green12.png  \n",
            "  inflating: training_dataset/green/green13.png  \n",
            "  inflating: training_dataset/green/green2.png  \n",
            "  inflating: training_dataset/green/green3.jpg  \n",
            "  inflating: training_dataset/green/green4.jpg  \n",
            "  inflating: training_dataset/green/green5.jpg  \n",
            "  inflating: training_dataset/green/green6.png  \n",
            "  inflating: training_dataset/green/green7.png  \n",
            "  inflating: training_dataset/green/green8.png  \n",
            "  inflating: training_dataset/green/green9.png  \n",
            "  inflating: training_dataset/grey/363737.png  \n",
            "  inflating: training_dataset/grey/4e5552.png  \n",
            "  inflating: training_dataset/grey/5e5e5e.png  \n",
            "  inflating: training_dataset/grey/666a6d.png  \n",
            "  inflating: training_dataset/grey/71706e.png  \n",
            "  inflating: training_dataset/grey/727a7c.png  \n",
            "  inflating: training_dataset/grey/7d7f7c.png  \n",
            "  inflating: training_dataset/grey/808080.png  \n",
            "  inflating: training_dataset/grey/82868a.png  \n",
            "  inflating: training_dataset/grey/838492.png  \n",
            "  inflating: training_dataset/grey/878d91.png  \n",
            "  inflating: training_dataset/grey/95918c.png  \n",
            "  inflating: training_dataset/grey/9896a4.png  \n",
            "  inflating: training_dataset/grey/9c9b98.png  \n",
            "  inflating: training_dataset/grey/9f9f9f.png  \n",
            "  inflating: training_dataset/grey/a8a9a8.png  \n",
            "  inflating: training_dataset/grey/a9b0b4.png  \n",
            "  inflating: training_dataset/grey/abafae.png  \n",
            "  inflating: training_dataset/grey/b6b5b8.png  \n",
            "  inflating: training_dataset/grey/bbbbbb.png  \n",
            "  inflating: training_dataset/grey/grey21-.png  \n",
            "  inflating: training_dataset/grey/grey22.png  \n",
            "  inflating: training_dataset/grey/grey23.png  \n",
            "  inflating: training_dataset/grey/grey24.png  \n",
            "  inflating: training_dataset/grey/grey25.png  \n",
            "  inflating: training_dataset/orange/eb6123.png  \n",
            "  inflating: training_dataset/orange/fd6f3b.png  \n",
            "  inflating: training_dataset/orange/fe6700.png  \n",
            "  inflating: training_dataset/orange/ff3503.png  \n",
            "  inflating: training_dataset/orange/ff5721.png  \n",
            "  inflating: training_dataset/orange/ff5f00.png  \n",
            "  inflating: training_dataset/orange/ff6600.png  \n",
            "  inflating: training_dataset/orange/ff7034.png  \n",
            "  inflating: training_dataset/orange/ff7124.png  \n",
            "  inflating: training_dataset/orange/ff7518.png  \n",
            "  inflating: training_dataset/orange/ff7f00.png  \n",
            "  inflating: training_dataset/orange/ff8d28.png  \n",
            "  inflating: training_dataset/orange/ffa000.png  \n",
            "  inflating: training_dataset/orange/ffa500.png  \n",
            "  inflating: training_dataset/orange/orange1.png  \n",
            "  inflating: training_dataset/orange/orange10.png  \n",
            "  inflating: training_dataset/orange/orange11-.png  \n",
            "  inflating: training_dataset/orange/orange12.png  \n",
            "  inflating: training_dataset/orange/orange2.png  \n",
            "  inflating: training_dataset/orange/orange3.png  \n",
            "  inflating: training_dataset/orange/orange5.png  \n",
            "  inflating: training_dataset/orange/orange6.png  \n",
            "  inflating: training_dataset/orange/orange7.png  \n",
            "  inflating: training_dataset/orange/orange8.jpg  \n",
            "  inflating: training_dataset/orange/orange9.jpg  \n",
            "  inflating: training_dataset/red/red1.jpg  \n",
            "  inflating: training_dataset/red/red10.jpg  \n",
            "  inflating: training_dataset/red/red11.png  \n",
            "  inflating: training_dataset/red/red12.png  \n",
            "  inflating: training_dataset/red/red13.png  \n",
            "  inflating: training_dataset/red/red14.png  \n",
            "  inflating: training_dataset/red/red15.png  \n",
            "  inflating: training_dataset/red/red16.png  \n",
            "  inflating: training_dataset/red/red17.png  \n",
            "  inflating: training_dataset/red/red18.png  \n",
            "  inflating: training_dataset/red/red19.png  \n",
            "  inflating: training_dataset/red/red2.jpg  \n",
            "  inflating: training_dataset/red/red20.png  \n",
            "  inflating: training_dataset/red/red21.png  \n",
            "  inflating: training_dataset/red/red22.png  \n",
            "  inflating: training_dataset/red/red23-.png  \n",
            "  inflating: training_dataset/red/red24.png  \n",
            "  inflating: training_dataset/red/red25.png  \n",
            "  inflating: training_dataset/red/red3.jpg  \n",
            "  inflating: training_dataset/red/red4.png  \n",
            "  inflating: training_dataset/red/red5.jpg  \n",
            "  inflating: training_dataset/red/red6.jpg  \n",
            "  inflating: training_dataset/red/red7.png  \n",
            "  inflating: training_dataset/red/red8.jpg  \n",
            "  inflating: training_dataset/red/red9.png  \n",
            "  inflating: training_dataset/violet/410056.png  \n",
            "  inflating: training_dataset/violet/4b0082.png  \n",
            "  inflating: training_dataset/violet/720058.png  \n",
            "  inflating: training_dataset/violet/7851a9.png  \n",
            "  inflating: training_dataset/violet/7a547f.png  \n",
            "  inflating: training_dataset/violet/7f3e98.png  \n",
            "  inflating: training_dataset/violet/800080.png  \n",
            "  inflating: training_dataset/violet/803790.png  \n",
            "  inflating: training_dataset/violet/894585.png  \n",
            "  inflating: training_dataset/violet/9a2ca0.png  \n",
            "  inflating: training_dataset/violet/9c51b6.png  \n",
            "  inflating: training_dataset/violet/9e43a2.png  \n",
            "  inflating: training_dataset/violet/a442a0.png  \n",
            "  inflating: training_dataset/violet/ad0afd.png  \n",
            "  inflating: training_dataset/violet/b56edc.png  \n",
            "  inflating: training_dataset/violet/b790d4.png  \n",
            "  inflating: training_dataset/violet/bc13fe.png  \n",
            "  inflating: training_dataset/violet/bf00ff.png  \n",
            "  inflating: training_dataset/violet/bf77f6.png  \n",
            "  inflating: training_dataset/violet/cc00ff.png  \n",
            "  inflating: training_dataset/violet/violet1.png  \n",
            "  inflating: training_dataset/violet/violet2.jpg  \n",
            "  inflating: training_dataset/violet/violet3.jpg  \n",
            "  inflating: training_dataset/violet/violet6.png  \n",
            "  inflating: training_dataset/violet/violet7.jpg  \n",
            "  inflating: training_dataset/white/bcc0cc.png  \n",
            "  inflating: training_dataset/white/bfbdc1.png  \n",
            "  inflating: training_dataset/white/bfc8c3.png  \n",
            "  inflating: training_dataset/white/c0c0c0.png  \n",
            "  inflating: training_dataset/white/c0c6c9.png  \n",
            "  inflating: training_dataset/white/c5c6c7.png  \n",
            "  inflating: training_dataset/white/c6c5c6.png  \n",
            "  inflating: training_dataset/white/c9cad1.png  \n",
            "  inflating: training_dataset/white/cdccd0.png  \n",
            "  inflating: training_dataset/white/crv2.png  \n",
            "  inflating: training_dataset/white/d2d1cd.png  \n",
            "  inflating: training_dataset/white/d6d7d2.png  \n",
            "  inflating: training_dataset/white/d9dfe0.png  \n",
            "  inflating: training_dataset/white/ececec.png  \n",
            "  inflating: training_dataset/white/ertiga.png  \n",
            "  inflating: training_dataset/white/white1.png  \n",
            "  inflating: training_dataset/white/white10.jpg  \n",
            "  inflating: training_dataset/white/white2.png  \n",
            "  inflating: training_dataset/white/white3.png  \n",
            "  inflating: training_dataset/white/white4.png  \n",
            "  inflating: training_dataset/white/white5.jpg  \n",
            "  inflating: training_dataset/white/white6.jpg  \n",
            "  inflating: training_dataset/white/white7.jpg  \n",
            "  inflating: training_dataset/white/white8.png  \n",
            "  inflating: training_dataset/white/white9.jpg  \n",
            "  inflating: training_dataset/yellow/d5b60a.png  \n",
            "  inflating: training_dataset/yellow/dfff4f.png  \n",
            "  inflating: training_dataset/yellow/fcd116.png  \n",
            "  inflating: training_dataset/yellow/fcfc5d.png  \n",
            "  inflating: training_dataset/yellow/fddc5c.png  \n",
            "  inflating: training_dataset/yellow/feff7f.png  \n",
            "  inflating: training_dataset/yellow/ffe302.png  \n",
            "  inflating: training_dataset/yellow/fffc79.png  \n",
            "  inflating: training_dataset/yellow/fffd01.png  \n",
            "  inflating: training_dataset/yellow/fffe40.png  \n",
            "  inflating: training_dataset/yellow/fffe7a.png  \n",
            "  inflating: training_dataset/yellow/ffff11.png  \n",
            "  inflating: training_dataset/yellow/ffff14.png  \n",
            "  inflating: training_dataset/yellow/ffff31.png  \n",
            "  inflating: training_dataset/yellow/ffff33.png  \n",
            "  inflating: training_dataset/yellow/yellow1.jpg  \n",
            "  inflating: training_dataset/yellow/yellow10.png  \n",
            "  inflating: training_dataset/yellow/yellow2.png  \n",
            "  inflating: training_dataset/yellow/yellow3.jpg  \n",
            "  inflating: training_dataset/yellow/yellow4.png  \n",
            "  inflating: training_dataset/yellow/yellow5.png  \n",
            "  inflating: training_dataset/yellow/yellow6.png  \n",
            "  inflating: training_dataset/yellow/yellow7.jpg  \n",
            "  inflating: training_dataset/yellow/yellow8.jpg  \n",
            "  inflating: training_dataset/yellow/yellow9.jpg  \n"
          ]
        }
      ]
    },
    {
      "cell_type": "markdown",
      "source": [
        "Displaying Sample Images from the Dataset"
      ],
      "metadata": {
        "id": "YcVZvL59VvKd"
      }
    },
    {
      "cell_type": "code",
      "source": [
        "image_paths = ['color_dataset/training_dataset/black/0a0502.png', 'color_dataset/training_dataset/blue/003377.png', 'color_dataset/training_dataset/brown/593c39.png','color_dataset/training_dataset/green/033500.png','color_dataset/training_dataset/grey/4e5552.png']\n",
        "\n",
        "# Display the images\n",
        "for image_path in image_paths:\n",
        "    img = Image.open(image_path)\n",
        "    plt.imshow(img)\n",
        "    plt.show()"
      ],
      "metadata": {
        "colab": {
          "base_uri": "https://localhost:8080/",
          "height": 1000
        },
        "id": "GVS4fsEpT139",
        "outputId": "f57d3a62-e00a-471d-a763-2eae1651280c"
      },
      "execution_count": null,
      "outputs": [
        {
          "output_type": "display_data",
          "data": {
            "text/plain": [
              "<Figure size 640x480 with 1 Axes>"
            ],
            "image/png": "[encoded data removed]"
          },
          "metadata": {}
        },
        {
          "output_type": "display_data",
          "data": {
            "text/plain": [
              "<Figure size 640x480 with 1 Axes>"
            ],
            "image/png": "[encoded data removed]"
          },
          "metadata": {}
        },
        {
          "output_type": "display_data",
          "data": {
            "text/plain": [
              "<Figure size 640x480 with 1 Axes>"
            ],
            "image/png": "[encoded data removed]"
          },
          "metadata": {}
        },
        {
          "output_type": "display_data",
          "data": {
            "text/plain": [
              "<Figure size 640x480 with 1 Axes>"
            ],
            "image/png": "[encoded data removed]"
          },
          "metadata": {}
        },
        {
          "output_type": "display_data",
          "data": {
            "text/plain": [
              "<Figure size 640x480 with 1 Axes>"
            ],
            "image/png": "[encoded data removed]"
          },
          "metadata": {}
        }
      ]
    },
    {
      "cell_type": "markdown",
      "source": [
        "We can extract the RGB format for every image and its corresponding color in a seperate DataFrame by using CV to detect the RGB values of the Image"
      ],
      "metadata": {
        "id": "BktZM6qzVzdk"
      }
    },
    {
      "cell_type": "code",
      "source": [
        "rgb = []\n",
        "color = []\n",
        "\n",
        "for dirname, _, filenames in os.walk('color_dataset/training_dataset'):\n",
        "    for filename in filenames:\n",
        "        image = cv2.cvtColor(cv2.imread(os.path.join(dirname, filename)), cv2.COLOR_BGR2RGB)\n",
        "        rgb.append(image[0][0])\n",
        "        extracted_color = dirname.split('/')[-1]\n",
        "        color.append(extracted_color)\n",
        "        print(f\"Directory: {dirname}, Extracted Color: {extracted_color}\")"
      ],
      "metadata": {
        "colab": {
          "base_uri": "https://localhost:8080/"
        },
        "id": "KQHGyV4xVz3n",
        "outputId": "6938fa6c-8dac-45c2-98b2-4c3d27eacf0a"
      },
      "execution_count": null,
      "outputs": [
        {
          "output_type": "stream",
          "name": "stdout",
          "text": [
            "Directory: color_dataset/training_dataset/yellow, Extracted Color: yellow\n",
            "Directory: color_dataset/training_dataset/yellow, Extracted Color: yellow\n",
            "Directory: color_dataset/training_dataset/yellow, Extracted Color: yellow\n",
            "Directory: color_dataset/training_dataset/yellow, Extracted Color: yellow\n",
            "Directory: color_dataset/training_dataset/yellow, Extracted Color: yellow\n",
            "Directory: color_dataset/training_dataset/yellow, Extracted Color: yellow\n",
            "Directory: color_dataset/training_dataset/yellow, Extracted Color: yellow\n",
            "Directory: color_dataset/training_dataset/yellow, Extracted Color: yellow\n",
            "Directory: color_dataset/training_dataset/yellow, Extracted Color: yellow\n",
            "Directory: color_dataset/training_dataset/yellow, Extracted Color: yellow\n",
            "Directory: color_dataset/training_dataset/yellow, Extracted Color: yellow\n",
            "Directory: color_dataset/training_dataset/yellow, Extracted Color: yellow\n",
            "Directory: color_dataset/training_dataset/yellow, Extracted Color: yellow\n",
            "Directory: color_dataset/training_dataset/yellow, Extracted Color: yellow\n",
            "Directory: color_dataset/training_dataset/yellow, Extracted Color: yellow\n",
            "Directory: color_dataset/training_dataset/yellow, Extracted Color: yellow\n",
            "Directory: color_dataset/training_dataset/yellow, Extracted Color: yellow\n",
            "Directory: color_dataset/training_dataset/yellow, Extracted Color: yellow\n",
            "Directory: color_dataset/training_dataset/yellow, Extracted Color: yellow\n",
            "Directory: color_dataset/training_dataset/yellow, Extracted Color: yellow\n",
            "Directory: color_dataset/training_dataset/yellow, Extracted Color: yellow\n",
            "Directory: color_dataset/training_dataset/yellow, Extracted Color: yellow\n",
            "Directory: color_dataset/training_dataset/yellow, Extracted Color: yellow\n",
            "Directory: color_dataset/training_dataset/yellow, Extracted Color: yellow\n",
            "Directory: color_dataset/training_dataset/yellow, Extracted Color: yellow\n",
            "Directory: color_dataset/training_dataset/blue, Extracted Color: blue\n",
            "Directory: color_dataset/training_dataset/blue, Extracted Color: blue\n",
            "Directory: color_dataset/training_dataset/blue, Extracted Color: blue\n",
            "Directory: color_dataset/training_dataset/blue, Extracted Color: blue\n",
            "Directory: color_dataset/training_dataset/blue, Extracted Color: blue\n",
            "Directory: color_dataset/training_dataset/blue, Extracted Color: blue\n",
            "Directory: color_dataset/training_dataset/blue, Extracted Color: blue\n",
            "Directory: color_dataset/training_dataset/blue, Extracted Color: blue\n",
            "Directory: color_dataset/training_dataset/blue, Extracted Color: blue\n",
            "Directory: color_dataset/training_dataset/blue, Extracted Color: blue\n",
            "Directory: color_dataset/training_dataset/blue, Extracted Color: blue\n",
            "Directory: color_dataset/training_dataset/blue, Extracted Color: blue\n",
            "Directory: color_dataset/training_dataset/blue, Extracted Color: blue\n",
            "Directory: color_dataset/training_dataset/blue, Extracted Color: blue\n",
            "Directory: color_dataset/training_dataset/blue, Extracted Color: blue\n",
            "Directory: color_dataset/training_dataset/blue, Extracted Color: blue\n",
            "Directory: color_dataset/training_dataset/blue, Extracted Color: blue\n",
            "Directory: color_dataset/training_dataset/blue, Extracted Color: blue\n",
            "Directory: color_dataset/training_dataset/blue, Extracted Color: blue\n",
            "Directory: color_dataset/training_dataset/blue, Extracted Color: blue\n",
            "Directory: color_dataset/training_dataset/blue, Extracted Color: blue\n",
            "Directory: color_dataset/training_dataset/blue, Extracted Color: blue\n",
            "Directory: color_dataset/training_dataset/blue, Extracted Color: blue\n",
            "Directory: color_dataset/training_dataset/blue, Extracted Color: blue\n",
            "Directory: color_dataset/training_dataset/blue, Extracted Color: blue\n",
            "Directory: color_dataset/training_dataset/grey, Extracted Color: grey\n",
            "Directory: color_dataset/training_dataset/grey, Extracted Color: grey\n",
            "Directory: color_dataset/training_dataset/grey, Extracted Color: grey\n",
            "Directory: color_dataset/training_dataset/grey, Extracted Color: grey\n",
            "Directory: color_dataset/training_dataset/grey, Extracted Color: grey\n",
            "Directory: color_dataset/training_dataset/grey, Extracted Color: grey\n",
            "Directory: color_dataset/training_dataset/grey, Extracted Color: grey\n",
            "Directory: color_dataset/training_dataset/grey, Extracted Color: grey\n",
            "Directory: color_dataset/training_dataset/grey, Extracted Color: grey\n",
            "Directory: color_dataset/training_dataset/grey, Extracted Color: grey\n",
            "Directory: color_dataset/training_dataset/grey, Extracted Color: grey\n",
            "Directory: color_dataset/training_dataset/grey, Extracted Color: grey\n",
            "Directory: color_dataset/training_dataset/grey, Extracted Color: grey\n",
            "Directory: color_dataset/training_dataset/grey, Extracted Color: grey\n",
            "Directory: color_dataset/training_dataset/grey, Extracted Color: grey\n",
            "Directory: color_dataset/training_dataset/grey, Extracted Color: grey\n",
            "Directory: color_dataset/training_dataset/grey, Extracted Color: grey\n",
            "Directory: color_dataset/training_dataset/grey, Extracted Color: grey\n",
            "Directory: color_dataset/training_dataset/grey, Extracted Color: grey\n",
            "Directory: color_dataset/training_dataset/grey, Extracted Color: grey\n",
            "Directory: color_dataset/training_dataset/grey, Extracted Color: grey\n",
            "Directory: color_dataset/training_dataset/grey, Extracted Color: grey\n",
            "Directory: color_dataset/training_dataset/grey, Extracted Color: grey\n",
            "Directory: color_dataset/training_dataset/grey, Extracted Color: grey\n",
            "Directory: color_dataset/training_dataset/grey, Extracted Color: grey\n",
            "Directory: color_dataset/training_dataset/black, Extracted Color: black\n",
            "Directory: color_dataset/training_dataset/black, Extracted Color: black\n",
            "Directory: color_dataset/training_dataset/black, Extracted Color: black\n",
            "Directory: color_dataset/training_dataset/black, Extracted Color: black\n",
            "Directory: color_dataset/training_dataset/black, Extracted Color: black\n",
            "Directory: color_dataset/training_dataset/black, Extracted Color: black\n",
            "Directory: color_dataset/training_dataset/black, Extracted Color: black\n",
            "Directory: color_dataset/training_dataset/black, Extracted Color: black\n",
            "Directory: color_dataset/training_dataset/black, Extracted Color: black\n",
            "Directory: color_dataset/training_dataset/black, Extracted Color: black\n",
            "Directory: color_dataset/training_dataset/black, Extracted Color: black\n",
            "Directory: color_dataset/training_dataset/black, Extracted Color: black\n",
            "Directory: color_dataset/training_dataset/black, Extracted Color: black\n",
            "Directory: color_dataset/training_dataset/black, Extracted Color: black\n",
            "Directory: color_dataset/training_dataset/black, Extracted Color: black\n",
            "Directory: color_dataset/training_dataset/black, Extracted Color: black\n",
            "Directory: color_dataset/training_dataset/black, Extracted Color: black\n",
            "Directory: color_dataset/training_dataset/black, Extracted Color: black\n",
            "Directory: color_dataset/training_dataset/black, Extracted Color: black\n",
            "Directory: color_dataset/training_dataset/black, Extracted Color: black\n",
            "Directory: color_dataset/training_dataset/black, Extracted Color: black\n",
            "Directory: color_dataset/training_dataset/black, Extracted Color: black\n",
            "Directory: color_dataset/training_dataset/black, Extracted Color: black\n",
            "Directory: color_dataset/training_dataset/black, Extracted Color: black\n",
            "Directory: color_dataset/training_dataset/black, Extracted Color: black\n",
            "Directory: color_dataset/training_dataset/violet, Extracted Color: violet\n",
            "Directory: color_dataset/training_dataset/violet, Extracted Color: violet\n",
            "Directory: color_dataset/training_dataset/violet, Extracted Color: violet\n",
            "Directory: color_dataset/training_dataset/violet, Extracted Color: violet\n",
            "Directory: color_dataset/training_dataset/violet, Extracted Color: violet\n",
            "Directory: color_dataset/training_dataset/violet, Extracted Color: violet\n",
            "Directory: color_dataset/training_dataset/violet, Extracted Color: violet\n",
            "Directory: color_dataset/training_dataset/violet, Extracted Color: violet\n",
            "Directory: color_dataset/training_dataset/violet, Extracted Color: violet\n",
            "Directory: color_dataset/training_dataset/violet, Extracted Color: violet\n",
            "Directory: color_dataset/training_dataset/violet, Extracted Color: violet\n",
            "Directory: color_dataset/training_dataset/violet, Extracted Color: violet\n",
            "Directory: color_dataset/training_dataset/violet, Extracted Color: violet\n",
            "Directory: color_dataset/training_dataset/violet, Extracted Color: violet\n",
            "Directory: color_dataset/training_dataset/violet, Extracted Color: violet\n",
            "Directory: color_dataset/training_dataset/violet, Extracted Color: violet\n",
            "Directory: color_dataset/training_dataset/violet, Extracted Color: violet\n",
            "Directory: color_dataset/training_dataset/violet, Extracted Color: violet\n",
            "Directory: color_dataset/training_dataset/violet, Extracted Color: violet\n",
            "Directory: color_dataset/training_dataset/violet, Extracted Color: violet\n",
            "Directory: color_dataset/training_dataset/violet, Extracted Color: violet\n",
            "Directory: color_dataset/training_dataset/violet, Extracted Color: violet\n",
            "Directory: color_dataset/training_dataset/violet, Extracted Color: violet\n",
            "Directory: color_dataset/training_dataset/violet, Extracted Color: violet\n",
            "Directory: color_dataset/training_dataset/violet, Extracted Color: violet\n",
            "Directory: color_dataset/training_dataset/white, Extracted Color: white\n",
            "Directory: color_dataset/training_dataset/white, Extracted Color: white\n",
            "Directory: color_dataset/training_dataset/white, Extracted Color: white\n",
            "Directory: color_dataset/training_dataset/white, Extracted Color: white\n",
            "Directory: color_dataset/training_dataset/white, Extracted Color: white\n",
            "Directory: color_dataset/training_dataset/white, Extracted Color: white\n",
            "Directory: color_dataset/training_dataset/white, Extracted Color: white\n",
            "Directory: color_dataset/training_dataset/white, Extracted Color: white\n",
            "Directory: color_dataset/training_dataset/white, Extracted Color: white\n",
            "Directory: color_dataset/training_dataset/white, Extracted Color: white\n",
            "Directory: color_dataset/training_dataset/white, Extracted Color: white\n",
            "Directory: color_dataset/training_dataset/white, Extracted Color: white\n",
            "Directory: color_dataset/training_dataset/white, Extracted Color: white\n",
            "Directory: color_dataset/training_dataset/white, Extracted Color: white\n",
            "Directory: color_dataset/training_dataset/white, Extracted Color: white\n",
            "Directory: color_dataset/training_dataset/white, Extracted Color: white\n",
            "Directory: color_dataset/training_dataset/white, Extracted Color: white\n",
            "Directory: color_dataset/training_dataset/white, Extracted Color: white\n",
            "Directory: color_dataset/training_dataset/white, Extracted Color: white\n",
            "Directory: color_dataset/training_dataset/white, Extracted Color: white\n",
            "Directory: color_dataset/training_dataset/white, Extracted Color: white\n",
            "Directory: color_dataset/training_dataset/white, Extracted Color: white\n",
            "Directory: color_dataset/training_dataset/white, Extracted Color: white\n",
            "Directory: color_dataset/training_dataset/white, Extracted Color: white\n",
            "Directory: color_dataset/training_dataset/white, Extracted Color: white\n",
            "Directory: color_dataset/training_dataset/red, Extracted Color: red\n",
            "Directory: color_dataset/training_dataset/red, Extracted Color: red\n",
            "Directory: color_dataset/training_dataset/red, Extracted Color: red\n",
            "Directory: color_dataset/training_dataset/red, Extracted Color: red\n",
            "Directory: color_dataset/training_dataset/red, Extracted Color: red\n",
            "Directory: color_dataset/training_dataset/red, Extracted Color: red\n",
            "Directory: color_dataset/training_dataset/red, Extracted Color: red\n",
            "Directory: color_dataset/training_dataset/red, Extracted Color: red\n",
            "Directory: color_dataset/training_dataset/red, Extracted Color: red\n",
            "Directory: color_dataset/training_dataset/red, Extracted Color: red\n",
            "Directory: color_dataset/training_dataset/red, Extracted Color: red\n",
            "Directory: color_dataset/training_dataset/red, Extracted Color: red\n",
            "Directory: color_dataset/training_dataset/red, Extracted Color: red\n",
            "Directory: color_dataset/training_dataset/red, Extracted Color: red\n",
            "Directory: color_dataset/training_dataset/red, Extracted Color: red\n",
            "Directory: color_dataset/training_dataset/red, Extracted Color: red\n",
            "Directory: color_dataset/training_dataset/red, Extracted Color: red\n",
            "Directory: color_dataset/training_dataset/red, Extracted Color: red\n",
            "Directory: color_dataset/training_dataset/red, Extracted Color: red\n",
            "Directory: color_dataset/training_dataset/red, Extracted Color: red\n",
            "Directory: color_dataset/training_dataset/red, Extracted Color: red\n",
            "Directory: color_dataset/training_dataset/red, Extracted Color: red\n",
            "Directory: color_dataset/training_dataset/red, Extracted Color: red\n",
            "Directory: color_dataset/training_dataset/red, Extracted Color: red\n",
            "Directory: color_dataset/training_dataset/red, Extracted Color: red\n",
            "Directory: color_dataset/training_dataset/green, Extracted Color: green\n",
            "Directory: color_dataset/training_dataset/green, Extracted Color: green\n",
            "Directory: color_dataset/training_dataset/green, Extracted Color: green\n",
            "Directory: color_dataset/training_dataset/green, Extracted Color: green\n",
            "Directory: color_dataset/training_dataset/green, Extracted Color: green\n",
            "Directory: color_dataset/training_dataset/green, Extracted Color: green\n",
            "Directory: color_dataset/training_dataset/green, Extracted Color: green\n",
            "Directory: color_dataset/training_dataset/green, Extracted Color: green\n",
            "Directory: color_dataset/training_dataset/green, Extracted Color: green\n",
            "Directory: color_dataset/training_dataset/green, Extracted Color: green\n",
            "Directory: color_dataset/training_dataset/green, Extracted Color: green\n",
            "Directory: color_dataset/training_dataset/green, Extracted Color: green\n",
            "Directory: color_dataset/training_dataset/green, Extracted Color: green\n",
            "Directory: color_dataset/training_dataset/green, Extracted Color: green\n",
            "Directory: color_dataset/training_dataset/green, Extracted Color: green\n",
            "Directory: color_dataset/training_dataset/green, Extracted Color: green\n",
            "Directory: color_dataset/training_dataset/green, Extracted Color: green\n",
            "Directory: color_dataset/training_dataset/green, Extracted Color: green\n",
            "Directory: color_dataset/training_dataset/green, Extracted Color: green\n",
            "Directory: color_dataset/training_dataset/green, Extracted Color: green\n",
            "Directory: color_dataset/training_dataset/green, Extracted Color: green\n",
            "Directory: color_dataset/training_dataset/green, Extracted Color: green\n",
            "Directory: color_dataset/training_dataset/green, Extracted Color: green\n",
            "Directory: color_dataset/training_dataset/green, Extracted Color: green\n",
            "Directory: color_dataset/training_dataset/green, Extracted Color: green\n",
            "Directory: color_dataset/training_dataset/brown, Extracted Color: brown\n",
            "Directory: color_dataset/training_dataset/brown, Extracted Color: brown\n",
            "Directory: color_dataset/training_dataset/brown, Extracted Color: brown\n",
            "Directory: color_dataset/training_dataset/brown, Extracted Color: brown\n",
            "Directory: color_dataset/training_dataset/brown, Extracted Color: brown\n",
            "Directory: color_dataset/training_dataset/brown, Extracted Color: brown\n",
            "Directory: color_dataset/training_dataset/brown, Extracted Color: brown\n",
            "Directory: color_dataset/training_dataset/brown, Extracted Color: brown\n",
            "Directory: color_dataset/training_dataset/brown, Extracted Color: brown\n",
            "Directory: color_dataset/training_dataset/brown, Extracted Color: brown\n",
            "Directory: color_dataset/training_dataset/brown, Extracted Color: brown\n",
            "Directory: color_dataset/training_dataset/brown, Extracted Color: brown\n",
            "Directory: color_dataset/training_dataset/brown, Extracted Color: brown\n",
            "Directory: color_dataset/training_dataset/brown, Extracted Color: brown\n",
            "Directory: color_dataset/training_dataset/brown, Extracted Color: brown\n",
            "Directory: color_dataset/training_dataset/brown, Extracted Color: brown\n",
            "Directory: color_dataset/training_dataset/brown, Extracted Color: brown\n",
            "Directory: color_dataset/training_dataset/brown, Extracted Color: brown\n",
            "Directory: color_dataset/training_dataset/brown, Extracted Color: brown\n",
            "Directory: color_dataset/training_dataset/brown, Extracted Color: brown\n",
            "Directory: color_dataset/training_dataset/brown, Extracted Color: brown\n",
            "Directory: color_dataset/training_dataset/brown, Extracted Color: brown\n",
            "Directory: color_dataset/training_dataset/brown, Extracted Color: brown\n",
            "Directory: color_dataset/training_dataset/brown, Extracted Color: brown\n",
            "Directory: color_dataset/training_dataset/brown, Extracted Color: brown\n",
            "Directory: color_dataset/training_dataset/orange, Extracted Color: orange\n",
            "Directory: color_dataset/training_dataset/orange, Extracted Color: orange\n",
            "Directory: color_dataset/training_dataset/orange, Extracted Color: orange\n",
            "Directory: color_dataset/training_dataset/orange, Extracted Color: orange\n",
            "Directory: color_dataset/training_dataset/orange, Extracted Color: orange\n",
            "Directory: color_dataset/training_dataset/orange, Extracted Color: orange\n",
            "Directory: color_dataset/training_dataset/orange, Extracted Color: orange\n",
            "Directory: color_dataset/training_dataset/orange, Extracted Color: orange\n",
            "Directory: color_dataset/training_dataset/orange, Extracted Color: orange\n",
            "Directory: color_dataset/training_dataset/orange, Extracted Color: orange\n",
            "Directory: color_dataset/training_dataset/orange, Extracted Color: orange\n",
            "Directory: color_dataset/training_dataset/orange, Extracted Color: orange\n",
            "Directory: color_dataset/training_dataset/orange, Extracted Color: orange\n",
            "Directory: color_dataset/training_dataset/orange, Extracted Color: orange\n",
            "Directory: color_dataset/training_dataset/orange, Extracted Color: orange\n",
            "Directory: color_dataset/training_dataset/orange, Extracted Color: orange\n",
            "Directory: color_dataset/training_dataset/orange, Extracted Color: orange\n",
            "Directory: color_dataset/training_dataset/orange, Extracted Color: orange\n",
            "Directory: color_dataset/training_dataset/orange, Extracted Color: orange\n",
            "Directory: color_dataset/training_dataset/orange, Extracted Color: orange\n",
            "Directory: color_dataset/training_dataset/orange, Extracted Color: orange\n",
            "Directory: color_dataset/training_dataset/orange, Extracted Color: orange\n",
            "Directory: color_dataset/training_dataset/orange, Extracted Color: orange\n",
            "Directory: color_dataset/training_dataset/orange, Extracted Color: orange\n",
            "Directory: color_dataset/training_dataset/orange, Extracted Color: orange\n"
          ]
        }
      ]
    },
    {
      "cell_type": "markdown",
      "source": [
        "RGB Dataframe"
      ],
      "metadata": {
        "id": "-Z_nnuFUJ-44"
      }
    },
    {
      "cell_type": "code",
      "source": [
        "df_rgb = pd.DataFrame(np.array(rgb), columns=['red', 'green', 'blue'])"
      ],
      "metadata": {
        "id": "pimBvpSMWmFX"
      },
      "execution_count": null,
      "outputs": []
    },
    {
      "cell_type": "code",
      "source": [
        "df_rgb.head()"
      ],
      "metadata": {
        "colab": {
          "base_uri": "https://localhost:8080/",
          "height": 206
        },
        "id": "LfEeqLzmWr7R",
        "outputId": "aa2d29f3-2b3e-41db-b15f-c795f51996a7"
      },
      "execution_count": null,
      "outputs": [
        {
          "output_type": "execute_result",
          "data": {
            "text/plain": [
              "   red  green  blue\n",
              "0  255    255   255\n",
              "1  247    224    23\n",
              "2  255    255     0\n",
              "3  255    227     2\n",
              "4  255    166     0"
            ],
            "text/html": [
              "\n",
              "  <div id=\"df-24a25d81-a740-4914-bbd5-b980eee211d0\" class=\"colab-df-container\">\n",
              "    <div>\n",
              "<style scoped>\n",
              "    .dataframe tbody tr th:only-of-type {\n",
              "        vertical-align: middle;\n",
              "    }\n",
              "\n",
              "    .dataframe tbody tr th {\n",
              "        vertical-align: top;\n",
              "    }\n",
              "\n",
              "    .dataframe thead th {\n",
              "        text-align: right;\n",
              "    }\n",
              "</style>\n",
              "<table border=\"1\" class=\"dataframe\">\n",
              "  <thead>\n",
              "    <tr style=\"text-align: right;\">\n",
              "      <th></th>\n",
              "      <th>red</th>\n",
              "      <th>green</th>\n",
              "      <th>blue</th>\n",
              "    </tr>\n",
              "  </thead>\n",
              "  <tbody>\n",
              "    <tr>\n",
              "      <th>0</th>\n",
              "      <td>255</td>\n",
              "      <td>255</td>\n",
              "      <td>255</td>\n",
              "    </tr>\n",
              "    <tr>\n",
              "      <th>1</th>\n",
              "      <td>247</td>\n",
              "      <td>224</td>\n",
              "      <td>23</td>\n",
              "    </tr>\n",
              "    <tr>\n",
              "      <th>2</th>\n",
              "      <td>255</td>\n",
              "      <td>255</td>\n",
              "      <td>0</td>\n",
              "    </tr>\n",
              "    <tr>\n",
              "      <th>3</th>\n",
              "      <td>255</td>\n",
              "      <td>227</td>\n",
              "      <td>2</td>\n",
              "    </tr>\n",
              "    <tr>\n",
              "      <th>4</th>\n",
              "      <td>255</td>\n",
              "      <td>166</td>\n",
              "      <td>0</td>\n",
              "    </tr>\n",
              "  </tbody>\n",
              "</table>\n",
              "</div>\n",
              "    <div class=\"colab-df-buttons\">\n",
              "\n",
              "  <div class=\"colab-df-container\">\n",
              "    <button class=\"colab-df-convert\" onclick=\"convertToInteractive('df-24a25d81-a740-4914-bbd5-b980eee211d0')\"\n",
              "            title=\"Convert this dataframe to an interactive table.\"\n",
              "            style=\"display:none;\">\n",
              "\n",
              "  <svg xmlns=\"http://www.w3.org/2000/svg\" height=\"24px\" viewBox=\"0 -960 960 960\">\n",
              "    <path d=\"M120-120v-720h720v720H120Zm60-500h600v-160H180v160Zm220 220h160v-160H400v160Zm0 220h160v-160H400v160ZM180-400h160v-160H180v160Zm440 0h160v-160H620v160ZM180-180h160v-160H180v160Zm440 0h160v-160H620v160Z\"/>\n",
              "  </svg>\n",
              "    </button>\n",
              "\n",
              "  <style>\n",
              "    .colab-df-container {\n",
              "      display:flex;\n",
              "      gap: 12px;\n",
              "    }\n",
              "\n",
              "    .colab-df-convert {\n",
              "      background-color: #E8F0FE;\n",
              "      border: none;\n",
              "      border-radius: 50%;\n",
              "      cursor: pointer;\n",
              "      display: none;\n",
              "      fill: #1967D2;\n",
              "      height: 32px;\n",
              "      padding: 0 0 0 0;\n",
              "      width: 32px;\n",
              "    }\n",
              "\n",
              "    .colab-df-convert:hover {\n",
              "      background-color: #E2EBFA;\n",
              "      box-shadow: 0px 1px 2px rgba(60, 64, 67, 0.3), 0px 1px 3px 1px rgba(60, 64, 67, 0.15);\n",
              "      fill: #174EA6;\n",
              "    }\n",
              "\n",
              "    .colab-df-buttons div {\n",
              "      margin-bottom: 4px;\n",
              "    }\n",
              "\n",
              "    [theme=dark] .colab-df-convert {\n",
              "      background-color: #3B4455;\n",
              "      fill: #D2E3FC;\n",
              "    }\n",
              "\n",
              "    [theme=dark] .colab-df-convert:hover {\n",
              "      background-color: #434B5C;\n",
              "      box-shadow: 0px 1px 3px 1px rgba(0, 0, 0, 0.15);\n",
              "      filter: drop-shadow(0px 1px 2px rgba(0, 0, 0, 0.3));\n",
              "      fill: #FFFFFF;\n",
              "    }\n",
              "  </style>\n",
              "\n",
              "    <script>\n",
              "      const buttonEl =\n",
              "        document.querySelector('#df-24a25d81-a740-4914-bbd5-b980eee211d0 button.colab-df-convert');\n",
              "      buttonEl.style.display =\n",
              "        google.colab.kernel.accessAllowed ? 'block' : 'none';\n",
              "\n",
              "      async function convertToInteractive(key) {\n",
              "        const element = document.querySelector('#df-24a25d81-a740-4914-bbd5-b980eee211d0');\n",
              "        const dataTable =\n",
              "          await google.colab.kernel.invokeFunction('convertToInteractive',\n",
              "                                                    [key], {});\n",
              "        if (!dataTable) return;\n",
              "\n",
              "        const docLinkHtml = 'Like what you see? Visit the ' +\n",
              "          '<a target=\"_blank\" href=https://colab.research.google.com/notebooks/data_table.ipynb>data table notebook</a>'\n",
              "          + ' to learn more about interactive tables.';\n",
              "        element.innerHTML = '';\n",
              "        dataTable['output_type'] = 'display_data';\n",
              "        await google.colab.output.renderOutput(dataTable, element);\n",
              "        const docLink = document.createElement('div');\n",
              "        docLink.innerHTML = docLinkHtml;\n",
              "        element.appendChild(docLink);\n",
              "      }\n",
              "    </script>\n",
              "  </div>\n",
              "\n",
              "\n",
              "<div id=\"df-ff038f7c-df6f-494a-b189-a836a1c3cd77\">\n",
              "  <button class=\"colab-df-quickchart\" onclick=\"quickchart('df-ff038f7c-df6f-494a-b189-a836a1c3cd77')\"\n",
              "            title=\"Suggest charts.\"\n",
              "            style=\"display:none;\">\n",
              "\n",
              "<svg xmlns=\"http://www.w3.org/2000/svg\" height=\"24px\"viewBox=\"0 0 24 24\"\n",
              "     width=\"24px\">\n",
              "    <g>\n",
              "        <path d=\"M19 3H5c-1.1 0-2 .9-2 2v14c0 1.1.9 2 2 2h14c1.1 0 2-.9 2-2V5c0-1.1-.9-2-2-2zM9 17H7v-7h2v7zm4 0h-2V7h2v10zm4 0h-2v-4h2v4z\"/>\n",
              "    </g>\n",
              "</svg>\n",
              "  </button>\n",
              "\n",
              "<style>\n",
              "  .colab-df-quickchart {\n",
              "      --bg-color: #E8F0FE;\n",
              "      --fill-color: #1967D2;\n",
              "      --hover-bg-color: #E2EBFA;\n",
              "      --hover-fill-color: #174EA6;\n",
              "      --disabled-fill-color: #AAA;\n",
              "      --disabled-bg-color: #DDD;\n",
              "  }\n",
              "\n",
              "  [theme=dark] .colab-df-quickchart {\n",
              "      --bg-color: #3B4455;\n",
              "      --fill-color: #D2E3FC;\n",
              "      --hover-bg-color: #434B5C;\n",
              "      --hover-fill-color: #FFFFFF;\n",
              "      --disabled-bg-color: #3B4455;\n",
              "      --disabled-fill-color: #666;\n",
              "  }\n",
              "\n",
              "  .colab-df-quickchart {\n",
              "    background-color: var(--bg-color);\n",
              "    border: none;\n",
              "    border-radius: 50%;\n",
              "    cursor: pointer;\n",
              "    display: none;\n",
              "    fill: var(--fill-color);\n",
              "    height: 32px;\n",
              "    padding: 0;\n",
              "    width: 32px;\n",
              "  }\n",
              "\n",
              "  .colab-df-quickchart:hover {\n",
              "    background-color: var(--hover-bg-color);\n",
              "    box-shadow: 0 1px 2px rgba(60, 64, 67, 0.3), 0 1px 3px 1px rgba(60, 64, 67, 0.15);\n",
              "    fill: var(--button-hover-fill-color);\n",
              "  }\n",
              "\n",
              "  .colab-df-quickchart-complete:disabled,\n",
              "  .colab-df-quickchart-complete:disabled:hover {\n",
              "    background-color: var(--disabled-bg-color);\n",
              "    fill: var(--disabled-fill-color);\n",
              "    box-shadow: none;\n",
              "  }\n",
              "\n",
              "  .colab-df-spinner {\n",
              "    border: 2px solid var(--fill-color);\n",
              "    border-color: transparent;\n",
              "    border-bottom-color: var(--fill-color);\n",
              "    animation:\n",
              "      spin 1s steps(1) infinite;\n",
              "  }\n",
              "\n",
              "  @keyframes spin {\n",
              "    0% {\n",
              "      border-color: transparent;\n",
              "      border-bottom-color: var(--fill-color);\n",
              "      border-left-color: var(--fill-color);\n",
              "    }\n",
              "    20% {\n",
              "      border-color: transparent;\n",
              "      border-left-color: var(--fill-color);\n",
              "      border-top-color: var(--fill-color);\n",
              "    }\n",
              "    30% {\n",
              "      border-color: transparent;\n",
              "      border-left-color: var(--fill-color);\n",
              "      border-top-color: var(--fill-color);\n",
              "      border-right-color: var(--fill-color);\n",
              "    }\n",
              "    40% {\n",
              "      border-color: transparent;\n",
              "      border-right-color: var(--fill-color);\n",
              "      border-top-color: var(--fill-color);\n",
              "    }\n",
              "    60% {\n",
              "      border-color: transparent;\n",
              "      border-right-color: var(--fill-color);\n",
              "    }\n",
              "    80% {\n",
              "      border-color: transparent;\n",
              "      border-right-color: var(--fill-color);\n",
              "      border-bottom-color: var(--fill-color);\n",
              "    }\n",
              "    90% {\n",
              "      border-color: transparent;\n",
              "      border-bottom-color: var(--fill-color);\n",
              "    }\n",
              "  }\n",
              "</style>\n",
              "\n",
              "  <script>\n",
              "    async function quickchart(key) {\n",
              "      const quickchartButtonEl =\n",
              "        document.querySelector('#' + key + ' button');\n",
              "      quickchartButtonEl.disabled = true;  // To prevent multiple clicks.\n",
              "      quickchartButtonEl.classList.add('colab-df-spinner');\n",
              "      try {\n",
              "        const charts = await google.colab.kernel.invokeFunction(\n",
              "            'suggestCharts', [key], {});\n",
              "      } catch (error) {\n",
              "        console.error('Error during call to suggestCharts:', error);\n",
              "      }\n",
              "      quickchartButtonEl.classList.remove('colab-df-spinner');\n",
              "      quickchartButtonEl.classList.add('colab-df-quickchart-complete');\n",
              "    }\n",
              "    (() => {\n",
              "      let quickchartButtonEl =\n",
              "        document.querySelector('#df-ff038f7c-df6f-494a-b189-a836a1c3cd77 button');\n",
              "      quickchartButtonEl.style.display =\n",
              "        google.colab.kernel.accessAllowed ? 'block' : 'none';\n",
              "    })();\n",
              "  </script>\n",
              "</div>\n",
              "    </div>\n",
              "  </div>\n"
            ]
          },
          "metadata": {},
          "execution_count": 48
        }
      ]
    },
    {
      "cell_type": "code",
      "source": [
        "df_rgb.shape"
      ],
      "metadata": {
        "colab": {
          "base_uri": "https://localhost:8080/"
        },
        "id": "rBn6_1MYWvcN",
        "outputId": "e7d9167a-b92d-4468-c726-ef1109347358"
      },
      "execution_count": null,
      "outputs": [
        {
          "output_type": "execute_result",
          "data": {
            "text/plain": [
              "(250, 3)"
            ]
          },
          "metadata": {},
          "execution_count": 49
        }
      ]
    },
    {
      "cell_type": "markdown",
      "source": [
        "Color Dataframe"
      ],
      "metadata": {
        "id": "PbVWW9OYKCwN"
      }
    },
    {
      "cell_type": "code",
      "source": [
        "df_color = pd.DataFrame(\n",
        "    {\n",
        "        'color': color\n",
        "    }\n",
        ")"
      ],
      "metadata": {
        "id": "_YvXuJpGW3D7"
      },
      "execution_count": null,
      "outputs": []
    },
    {
      "cell_type": "code",
      "source": [
        "df_color.head()"
      ],
      "metadata": {
        "colab": {
          "base_uri": "https://localhost:8080/",
          "height": 206
        },
        "id": "q0GGULrfW6VO",
        "outputId": "cc180b06-bd4d-43b6-9449-39877a73389f"
      },
      "execution_count": null,
      "outputs": [
        {
          "output_type": "execute_result",
          "data": {
            "text/plain": [
              "    color\n",
              "0  yellow\n",
              "1  yellow\n",
              "2  yellow\n",
              "3  yellow\n",
              "4  yellow"
            ],
            "text/html": [
              "\n",
              "  <div id=\"df-af9eb959-8b72-4998-b26d-3da6474b9442\" class=\"colab-df-container\">\n",
              "    <div>\n",
              "<style scoped>\n",
              "    .dataframe tbody tr th:only-of-type {\n",
              "        vertical-align: middle;\n",
              "    }\n",
              "\n",
              "    .dataframe tbody tr th {\n",
              "        vertical-align: top;\n",
              "    }\n",
              "\n",
              "    .dataframe thead th {\n",
              "        text-align: right;\n",
              "    }\n",
              "</style>\n",
              "<table border=\"1\" class=\"dataframe\">\n",
              "  <thead>\n",
              "    <tr style=\"text-align: right;\">\n",
              "      <th></th>\n",
              "      <th>color</th>\n",
              "    </tr>\n",
              "  </thead>\n",
              "  <tbody>\n",
              "    <tr>\n",
              "      <th>0</th>\n",
              "      <td>yellow</td>\n",
              "    </tr>\n",
              "    <tr>\n",
              "      <th>1</th>\n",
              "      <td>yellow</td>\n",
              "    </tr>\n",
              "    <tr>\n",
              "      <th>2</th>\n",
              "      <td>yellow</td>\n",
              "    </tr>\n",
              "    <tr>\n",
              "      <th>3</th>\n",
              "      <td>yellow</td>\n",
              "    </tr>\n",
              "    <tr>\n",
              "      <th>4</th>\n",
              "      <td>yellow</td>\n",
              "    </tr>\n",
              "  </tbody>\n",
              "</table>\n",
              "</div>\n",
              "    <div class=\"colab-df-buttons\">\n",
              "\n",
              "  <div class=\"colab-df-container\">\n",
              "    <button class=\"colab-df-convert\" onclick=\"convertToInteractive('df-af9eb959-8b72-4998-b26d-3da6474b9442')\"\n",
              "            title=\"Convert this dataframe to an interactive table.\"\n",
              "            style=\"display:none;\">\n",
              "\n",
              "  <svg xmlns=\"http://www.w3.org/2000/svg\" height=\"24px\" viewBox=\"0 -960 960 960\">\n",
              "    <path d=\"M120-120v-720h720v720H120Zm60-500h600v-160H180v160Zm220 220h160v-160H400v160Zm0 220h160v-160H400v160ZM180-400h160v-160H180v160Zm440 0h160v-160H620v160ZM180-180h160v-160H180v160Zm440 0h160v-160H620v160Z\"/>\n",
              "  </svg>\n",
              "    </button>\n",
              "\n",
              "  <style>\n",
              "    .colab-df-container {\n",
              "      display:flex;\n",
              "      gap: 12px;\n",
              "    }\n",
              "\n",
              "    .colab-df-convert {\n",
              "      background-color: #E8F0FE;\n",
              "      border: none;\n",
              "      border-radius: 50%;\n",
              "      cursor: pointer;\n",
              "      display: none;\n",
              "      fill: #1967D2;\n",
              "      height: 32px;\n",
              "      padding: 0 0 0 0;\n",
              "      width: 32px;\n",
              "    }\n",
              "\n",
              "    .colab-df-convert:hover {\n",
              "      background-color: #E2EBFA;\n",
              "      box-shadow: 0px 1px 2px rgba(60, 64, 67, 0.3), 0px 1px 3px 1px rgba(60, 64, 67, 0.15);\n",
              "      fill: #174EA6;\n",
              "    }\n",
              "\n",
              "    .colab-df-buttons div {\n",
              "      margin-bottom: 4px;\n",
              "    }\n",
              "\n",
              "    [theme=dark] .colab-df-convert {\n",
              "      background-color: #3B4455;\n",
              "      fill: #D2E3FC;\n",
              "    }\n",
              "\n",
              "    [theme=dark] .colab-df-convert:hover {\n",
              "      background-color: #434B5C;\n",
              "      box-shadow: 0px 1px 3px 1px rgba(0, 0, 0, 0.15);\n",
              "      filter: drop-shadow(0px 1px 2px rgba(0, 0, 0, 0.3));\n",
              "      fill: #FFFFFF;\n",
              "    }\n",
              "  </style>\n",
              "\n",
              "    <script>\n",
              "      const buttonEl =\n",
              "        document.querySelector('#df-af9eb959-8b72-4998-b26d-3da6474b9442 button.colab-df-convert');\n",
              "      buttonEl.style.display =\n",
              "        google.colab.kernel.accessAllowed ? 'block' : 'none';\n",
              "\n",
              "      async function convertToInteractive(key) {\n",
              "        const element = document.querySelector('#df-af9eb959-8b72-4998-b26d-3da6474b9442');\n",
              "        const dataTable =\n",
              "          await google.colab.kernel.invokeFunction('convertToInteractive',\n",
              "                                                    [key], {});\n",
              "        if (!dataTable) return;\n",
              "\n",
              "        const docLinkHtml = 'Like what you see? Visit the ' +\n",
              "          '<a target=\"_blank\" href=https://colab.research.google.com/notebooks/data_table.ipynb>data table notebook</a>'\n",
              "          + ' to learn more about interactive tables.';\n",
              "        element.innerHTML = '';\n",
              "        dataTable['output_type'] = 'display_data';\n",
              "        await google.colab.output.renderOutput(dataTable, element);\n",
              "        const docLink = document.createElement('div');\n",
              "        docLink.innerHTML = docLinkHtml;\n",
              "        element.appendChild(docLink);\n",
              "      }\n",
              "    </script>\n",
              "  </div>\n",
              "\n",
              "\n",
              "<div id=\"df-ece5edf9-88dc-43eb-b9d2-5f74823405a9\">\n",
              "  <button class=\"colab-df-quickchart\" onclick=\"quickchart('df-ece5edf9-88dc-43eb-b9d2-5f74823405a9')\"\n",
              "            title=\"Suggest charts.\"\n",
              "            style=\"display:none;\">\n",
              "\n",
              "<svg xmlns=\"http://www.w3.org/2000/svg\" height=\"24px\"viewBox=\"0 0 24 24\"\n",
              "     width=\"24px\">\n",
              "    <g>\n",
              "        <path d=\"M19 3H5c-1.1 0-2 .9-2 2v14c0 1.1.9 2 2 2h14c1.1 0 2-.9 2-2V5c0-1.1-.9-2-2-2zM9 17H7v-7h2v7zm4 0h-2V7h2v10zm4 0h-2v-4h2v4z\"/>\n",
              "    </g>\n",
              "</svg>\n",
              "  </button>\n",
              "\n",
              "<style>\n",
              "  .colab-df-quickchart {\n",
              "      --bg-color: #E8F0FE;\n",
              "      --fill-color: #1967D2;\n",
              "      --hover-bg-color: #E2EBFA;\n",
              "      --hover-fill-color: #174EA6;\n",
              "      --disabled-fill-color: #AAA;\n",
              "      --disabled-bg-color: #DDD;\n",
              "  }\n",
              "\n",
              "  [theme=dark] .colab-df-quickchart {\n",
              "      --bg-color: #3B4455;\n",
              "      --fill-color: #D2E3FC;\n",
              "      --hover-bg-color: #434B5C;\n",
              "      --hover-fill-color: #FFFFFF;\n",
              "      --disabled-bg-color: #3B4455;\n",
              "      --disabled-fill-color: #666;\n",
              "  }\n",
              "\n",
              "  .colab-df-quickchart {\n",
              "    background-color: var(--bg-color);\n",
              "    border: none;\n",
              "    border-radius: 50%;\n",
              "    cursor: pointer;\n",
              "    display: none;\n",
              "    fill: var(--fill-color);\n",
              "    height: 32px;\n",
              "    padding: 0;\n",
              "    width: 32px;\n",
              "  }\n",
              "\n",
              "  .colab-df-quickchart:hover {\n",
              "    background-color: var(--hover-bg-color);\n",
              "    box-shadow: 0 1px 2px rgba(60, 64, 67, 0.3), 0 1px 3px 1px rgba(60, 64, 67, 0.15);\n",
              "    fill: var(--button-hover-fill-color);\n",
              "  }\n",
              "\n",
              "  .colab-df-quickchart-complete:disabled,\n",
              "  .colab-df-quickchart-complete:disabled:hover {\n",
              "    background-color: var(--disabled-bg-color);\n",
              "    fill: var(--disabled-fill-color);\n",
              "    box-shadow: none;\n",
              "  }\n",
              "\n",
              "  .colab-df-spinner {\n",
              "    border: 2px solid var(--fill-color);\n",
              "    border-color: transparent;\n",
              "    border-bottom-color: var(--fill-color);\n",
              "    animation:\n",
              "      spin 1s steps(1) infinite;\n",
              "  }\n",
              "\n",
              "  @keyframes spin {\n",
              "    0% {\n",
              "      border-color: transparent;\n",
              "      border-bottom-color: var(--fill-color);\n",
              "      border-left-color: var(--fill-color);\n",
              "    }\n",
              "    20% {\n",
              "      border-color: transparent;\n",
              "      border-left-color: var(--fill-color);\n",
              "      border-top-color: var(--fill-color);\n",
              "    }\n",
              "    30% {\n",
              "      border-color: transparent;\n",
              "      border-left-color: var(--fill-color);\n",
              "      border-top-color: var(--fill-color);\n",
              "      border-right-color: var(--fill-color);\n",
              "    }\n",
              "    40% {\n",
              "      border-color: transparent;\n",
              "      border-right-color: var(--fill-color);\n",
              "      border-top-color: var(--fill-color);\n",
              "    }\n",
              "    60% {\n",
              "      border-color: transparent;\n",
              "      border-right-color: var(--fill-color);\n",
              "    }\n",
              "    80% {\n",
              "      border-color: transparent;\n",
              "      border-right-color: var(--fill-color);\n",
              "      border-bottom-color: var(--fill-color);\n",
              "    }\n",
              "    90% {\n",
              "      border-color: transparent;\n",
              "      border-bottom-color: var(--fill-color);\n",
              "    }\n",
              "  }\n",
              "</style>\n",
              "\n",
              "  <script>\n",
              "    async function quickchart(key) {\n",
              "      const quickchartButtonEl =\n",
              "        document.querySelector('#' + key + ' button');\n",
              "      quickchartButtonEl.disabled = true;  // To prevent multiple clicks.\n",
              "      quickchartButtonEl.classList.add('colab-df-spinner');\n",
              "      try {\n",
              "        const charts = await google.colab.kernel.invokeFunction(\n",
              "            'suggestCharts', [key], {});\n",
              "      } catch (error) {\n",
              "        console.error('Error during call to suggestCharts:', error);\n",
              "      }\n",
              "      quickchartButtonEl.classList.remove('colab-df-spinner');\n",
              "      quickchartButtonEl.classList.add('colab-df-quickchart-complete');\n",
              "    }\n",
              "    (() => {\n",
              "      let quickchartButtonEl =\n",
              "        document.querySelector('#df-ece5edf9-88dc-43eb-b9d2-5f74823405a9 button');\n",
              "      quickchartButtonEl.style.display =\n",
              "        google.colab.kernel.accessAllowed ? 'block' : 'none';\n",
              "    })();\n",
              "  </script>\n",
              "</div>\n",
              "    </div>\n",
              "  </div>\n"
            ]
          },
          "metadata": {},
          "execution_count": 53
        }
      ]
    },
    {
      "cell_type": "code",
      "source": [
        "df_color.shape"
      ],
      "metadata": {
        "colab": {
          "base_uri": "https://localhost:8080/"
        },
        "id": "x-Wh_La5aWnA",
        "outputId": "fe7b6bce-d06c-4e22-9ec6-98ee3985552b"
      },
      "execution_count": null,
      "outputs": [
        {
          "output_type": "execute_result",
          "data": {
            "text/plain": [
              "(250, 1)"
            ]
          },
          "metadata": {},
          "execution_count": 54
        }
      ]
    },
    {
      "cell_type": "markdown",
      "source": [
        "Combining rgb and color dataframe"
      ],
      "metadata": {
        "id": "vpw1ktQgKHCf"
      }
    },
    {
      "cell_type": "code",
      "source": [
        "df =df_rgb.join(df_color)\n",
        "df.head()"
      ],
      "metadata": {
        "colab": {
          "base_uri": "https://localhost:8080/",
          "height": 206
        },
        "id": "RVDoU8kLaZpu",
        "outputId": "cc5a801f-1c96-42e5-b0fb-6e7d5a18fc2d"
      },
      "execution_count": null,
      "outputs": [
        {
          "output_type": "execute_result",
          "data": {
            "text/plain": [
              "   red  green  blue   color\n",
              "0  255    255   255  yellow\n",
              "1  247    224    23  yellow\n",
              "2  255    255     0  yellow\n",
              "3  255    227     2  yellow\n",
              "4  255    166     0  yellow"
            ],
            "text/html": [
              "\n",
              "  <div id=\"df-c6734c1a-bb8f-4989-9198-0125da639191\" class=\"colab-df-container\">\n",
              "    <div>\n",
              "<style scoped>\n",
              "    .dataframe tbody tr th:only-of-type {\n",
              "        vertical-align: middle;\n",
              "    }\n",
              "\n",
              "    .dataframe tbody tr th {\n",
              "        vertical-align: top;\n",
              "    }\n",
              "\n",
              "    .dataframe thead th {\n",
              "        text-align: right;\n",
              "    }\n",
              "</style>\n",
              "<table border=\"1\" class=\"dataframe\">\n",
              "  <thead>\n",
              "    <tr style=\"text-align: right;\">\n",
              "      <th></th>\n",
              "      <th>red</th>\n",
              "      <th>green</th>\n",
              "      <th>blue</th>\n",
              "      <th>color</th>\n",
              "    </tr>\n",
              "  </thead>\n",
              "  <tbody>\n",
              "    <tr>\n",
              "      <th>0</th>\n",
              "      <td>255</td>\n",
              "      <td>255</td>\n",
              "      <td>255</td>\n",
              "      <td>yellow</td>\n",
              "    </tr>\n",
              "    <tr>\n",
              "      <th>1</th>\n",
              "      <td>247</td>\n",
              "      <td>224</td>\n",
              "      <td>23</td>\n",
              "      <td>yellow</td>\n",
              "    </tr>\n",
              "    <tr>\n",
              "      <th>2</th>\n",
              "      <td>255</td>\n",
              "      <td>255</td>\n",
              "      <td>0</td>\n",
              "      <td>yellow</td>\n",
              "    </tr>\n",
              "    <tr>\n",
              "      <th>3</th>\n",
              "      <td>255</td>\n",
              "      <td>227</td>\n",
              "      <td>2</td>\n",
              "      <td>yellow</td>\n",
              "    </tr>\n",
              "    <tr>\n",
              "      <th>4</th>\n",
              "      <td>255</td>\n",
              "      <td>166</td>\n",
              "      <td>0</td>\n",
              "      <td>yellow</td>\n",
              "    </tr>\n",
              "  </tbody>\n",
              "</table>\n",
              "</div>\n",
              "    <div class=\"colab-df-buttons\">\n",
              "\n",
              "  <div class=\"colab-df-container\">\n",
              "    <button class=\"colab-df-convert\" onclick=\"convertToInteractive('df-c6734c1a-bb8f-4989-9198-0125da639191')\"\n",
              "            title=\"Convert this dataframe to an interactive table.\"\n",
              "            style=\"display:none;\">\n",
              "\n",
              "  <svg xmlns=\"http://www.w3.org/2000/svg\" height=\"24px\" viewBox=\"0 -960 960 960\">\n",
              "    <path d=\"M120-120v-720h720v720H120Zm60-500h600v-160H180v160Zm220 220h160v-160H400v160Zm0 220h160v-160H400v160ZM180-400h160v-160H180v160Zm440 0h160v-160H620v160ZM180-180h160v-160H180v160Zm440 0h160v-160H620v160Z\"/>\n",
              "  </svg>\n",
              "    </button>\n",
              "\n",
              "  <style>\n",
              "    .colab-df-container {\n",
              "      display:flex;\n",
              "      gap: 12px;\n",
              "    }\n",
              "\n",
              "    .colab-df-convert {\n",
              "      background-color: #E8F0FE;\n",
              "      border: none;\n",
              "      border-radius: 50%;\n",
              "      cursor: pointer;\n",
              "      display: none;\n",
              "      fill: #1967D2;\n",
              "      height: 32px;\n",
              "      padding: 0 0 0 0;\n",
              "      width: 32px;\n",
              "    }\n",
              "\n",
              "    .colab-df-convert:hover {\n",
              "      background-color: #E2EBFA;\n",
              "      box-shadow: 0px 1px 2px rgba(60, 64, 67, 0.3), 0px 1px 3px 1px rgba(60, 64, 67, 0.15);\n",
              "      fill: #174EA6;\n",
              "    }\n",
              "\n",
              "    .colab-df-buttons div {\n",
              "      margin-bottom: 4px;\n",
              "    }\n",
              "\n",
              "    [theme=dark] .colab-df-convert {\n",
              "      background-color: #3B4455;\n",
              "      fill: #D2E3FC;\n",
              "    }\n",
              "\n",
              "    [theme=dark] .colab-df-convert:hover {\n",
              "      background-color: #434B5C;\n",
              "      box-shadow: 0px 1px 3px 1px rgba(0, 0, 0, 0.15);\n",
              "      filter: drop-shadow(0px 1px 2px rgba(0, 0, 0, 0.3));\n",
              "      fill: #FFFFFF;\n",
              "    }\n",
              "  </style>\n",
              "\n",
              "    <script>\n",
              "      const buttonEl =\n",
              "        document.querySelector('#df-c6734c1a-bb8f-4989-9198-0125da639191 button.colab-df-convert');\n",
              "      buttonEl.style.display =\n",
              "        google.colab.kernel.accessAllowed ? 'block' : 'none';\n",
              "\n",
              "      async function convertToInteractive(key) {\n",
              "        const element = document.querySelector('#df-c6734c1a-bb8f-4989-9198-0125da639191');\n",
              "        const dataTable =\n",
              "          await google.colab.kernel.invokeFunction('convertToInteractive',\n",
              "                                                    [key], {});\n",
              "        if (!dataTable) return;\n",
              "\n",
              "        const docLinkHtml = 'Like what you see? Visit the ' +\n",
              "          '<a target=\"_blank\" href=https://colab.research.google.com/notebooks/data_table.ipynb>data table notebook</a>'\n",
              "          + ' to learn more about interactive tables.';\n",
              "        element.innerHTML = '';\n",
              "        dataTable['output_type'] = 'display_data';\n",
              "        await google.colab.output.renderOutput(dataTable, element);\n",
              "        const docLink = document.createElement('div');\n",
              "        docLink.innerHTML = docLinkHtml;\n",
              "        element.appendChild(docLink);\n",
              "      }\n",
              "    </script>\n",
              "  </div>\n",
              "\n",
              "\n",
              "<div id=\"df-494174d8-5a9e-4c93-b87f-2be9eac0f69c\">\n",
              "  <button class=\"colab-df-quickchart\" onclick=\"quickchart('df-494174d8-5a9e-4c93-b87f-2be9eac0f69c')\"\n",
              "            title=\"Suggest charts.\"\n",
              "            style=\"display:none;\">\n",
              "\n",
              "<svg xmlns=\"http://www.w3.org/2000/svg\" height=\"24px\"viewBox=\"0 0 24 24\"\n",
              "     width=\"24px\">\n",
              "    <g>\n",
              "        <path d=\"M19 3H5c-1.1 0-2 .9-2 2v14c0 1.1.9 2 2 2h14c1.1 0 2-.9 2-2V5c0-1.1-.9-2-2-2zM9 17H7v-7h2v7zm4 0h-2V7h2v10zm4 0h-2v-4h2v4z\"/>\n",
              "    </g>\n",
              "</svg>\n",
              "  </button>\n",
              "\n",
              "<style>\n",
              "  .colab-df-quickchart {\n",
              "      --bg-color: #E8F0FE;\n",
              "      --fill-color: #1967D2;\n",
              "      --hover-bg-color: #E2EBFA;\n",
              "      --hover-fill-color: #174EA6;\n",
              "      --disabled-fill-color: #AAA;\n",
              "      --disabled-bg-color: #DDD;\n",
              "  }\n",
              "\n",
              "  [theme=dark] .colab-df-quickchart {\n",
              "      --bg-color: #3B4455;\n",
              "      --fill-color: #D2E3FC;\n",
              "      --hover-bg-color: #434B5C;\n",
              "      --hover-fill-color: #FFFFFF;\n",
              "      --disabled-bg-color: #3B4455;\n",
              "      --disabled-fill-color: #666;\n",
              "  }\n",
              "\n",
              "  .colab-df-quickchart {\n",
              "    background-color: var(--bg-color);\n",
              "    border: none;\n",
              "    border-radius: 50%;\n",
              "    cursor: pointer;\n",
              "    display: none;\n",
              "    fill: var(--fill-color);\n",
              "    height: 32px;\n",
              "    padding: 0;\n",
              "    width: 32px;\n",
              "  }\n",
              "\n",
              "  .colab-df-quickchart:hover {\n",
              "    background-color: var(--hover-bg-color);\n",
              "    box-shadow: 0 1px 2px rgba(60, 64, 67, 0.3), 0 1px 3px 1px rgba(60, 64, 67, 0.15);\n",
              "    fill: var(--button-hover-fill-color);\n",
              "  }\n",
              "\n",
              "  .colab-df-quickchart-complete:disabled,\n",
              "  .colab-df-quickchart-complete:disabled:hover {\n",
              "    background-color: var(--disabled-bg-color);\n",
              "    fill: var(--disabled-fill-color);\n",
              "    box-shadow: none;\n",
              "  }\n",
              "\n",
              "  .colab-df-spinner {\n",
              "    border: 2px solid var(--fill-color);\n",
              "    border-color: transparent;\n",
              "    border-bottom-color: var(--fill-color);\n",
              "    animation:\n",
              "      spin 1s steps(1) infinite;\n",
              "  }\n",
              "\n",
              "  @keyframes spin {\n",
              "    0% {\n",
              "      border-color: transparent;\n",
              "      border-bottom-color: var(--fill-color);\n",
              "      border-left-color: var(--fill-color);\n",
              "    }\n",
              "    20% {\n",
              "      border-color: transparent;\n",
              "      border-left-color: var(--fill-color);\n",
              "      border-top-color: var(--fill-color);\n",
              "    }\n",
              "    30% {\n",
              "      border-color: transparent;\n",
              "      border-left-color: var(--fill-color);\n",
              "      border-top-color: var(--fill-color);\n",
              "      border-right-color: var(--fill-color);\n",
              "    }\n",
              "    40% {\n",
              "      border-color: transparent;\n",
              "      border-right-color: var(--fill-color);\n",
              "      border-top-color: var(--fill-color);\n",
              "    }\n",
              "    60% {\n",
              "      border-color: transparent;\n",
              "      border-right-color: var(--fill-color);\n",
              "    }\n",
              "    80% {\n",
              "      border-color: transparent;\n",
              "      border-right-color: var(--fill-color);\n",
              "      border-bottom-color: var(--fill-color);\n",
              "    }\n",
              "    90% {\n",
              "      border-color: transparent;\n",
              "      border-bottom-color: var(--fill-color);\n",
              "    }\n",
              "  }\n",
              "</style>\n",
              "\n",
              "  <script>\n",
              "    async function quickchart(key) {\n",
              "      const quickchartButtonEl =\n",
              "        document.querySelector('#' + key + ' button');\n",
              "      quickchartButtonEl.disabled = true;  // To prevent multiple clicks.\n",
              "      quickchartButtonEl.classList.add('colab-df-spinner');\n",
              "      try {\n",
              "        const charts = await google.colab.kernel.invokeFunction(\n",
              "            'suggestCharts', [key], {});\n",
              "      } catch (error) {\n",
              "        console.error('Error during call to suggestCharts:', error);\n",
              "      }\n",
              "      quickchartButtonEl.classList.remove('colab-df-spinner');\n",
              "      quickchartButtonEl.classList.add('colab-df-quickchart-complete');\n",
              "    }\n",
              "    (() => {\n",
              "      let quickchartButtonEl =\n",
              "        document.querySelector('#df-494174d8-5a9e-4c93-b87f-2be9eac0f69c button');\n",
              "      quickchartButtonEl.style.display =\n",
              "        google.colab.kernel.accessAllowed ? 'block' : 'none';\n",
              "    })();\n",
              "  </script>\n",
              "</div>\n",
              "    </div>\n",
              "  </div>\n"
            ]
          },
          "metadata": {},
          "execution_count": 55
        }
      ]
    },
    {
      "cell_type": "markdown",
      "source": [
        "Checking Null Values"
      ],
      "metadata": {
        "id": "wJb75iL5KLKe"
      }
    },
    {
      "cell_type": "code",
      "source": [
        "df.isnull().sum()"
      ],
      "metadata": {
        "colab": {
          "base_uri": "https://localhost:8080/"
        },
        "id": "uQjYNbv_alOp",
        "outputId": "120e3d8b-6c5e-46dc-d057-2c29845ccdf7"
      },
      "execution_count": null,
      "outputs": [
        {
          "output_type": "execute_result",
          "data": {
            "text/plain": [
              "red      0\n",
              "green    0\n",
              "blue     0\n",
              "color    0\n",
              "dtype: int64"
            ]
          },
          "metadata": {},
          "execution_count": 56
        }
      ]
    },
    {
      "cell_type": "markdown",
      "source": [
        "Checking Duplicate Values"
      ],
      "metadata": {
        "id": "S7Yv_lYpKQUg"
      }
    },
    {
      "cell_type": "code",
      "source": [
        "df.duplicated().sum()"
      ],
      "metadata": {
        "colab": {
          "base_uri": "https://localhost:8080/"
        },
        "id": "T1Eh5Kewa0dh",
        "outputId": "1a5486c7-9dc5-44c3-a50d-aae163d7f6b0"
      },
      "execution_count": null,
      "outputs": [
        {
          "output_type": "execute_result",
          "data": {
            "text/plain": [
              "27"
            ]
          },
          "metadata": {},
          "execution_count": 57
        }
      ]
    },
    {
      "cell_type": "code",
      "source": [
        "df=df.drop_duplicates()"
      ],
      "metadata": {
        "id": "iwXIeLjpa5XN"
      },
      "execution_count": null,
      "outputs": []
    },
    {
      "cell_type": "code",
      "source": [
        "df.duplicated().sum()"
      ],
      "metadata": {
        "colab": {
          "base_uri": "https://localhost:8080/"
        },
        "id": "0FXTYDdQbHP6",
        "outputId": "943713f6-194d-475a-d872-8a71b51a62ee"
      },
      "execution_count": null,
      "outputs": [
        {
          "output_type": "execute_result",
          "data": {
            "text/plain": [
              "0"
            ]
          },
          "metadata": {},
          "execution_count": 62
        }
      ]
    },
    {
      "cell_type": "markdown",
      "source": [
        "Checking unique values in color column"
      ],
      "metadata": {
        "id": "0DLlaUEVKUHw"
      }
    },
    {
      "cell_type": "code",
      "source": [
        "df['color'].nunique()"
      ],
      "metadata": {
        "colab": {
          "base_uri": "https://localhost:8080/"
        },
        "id": "rYiHEEIrbWF_",
        "outputId": "fdbeeee1-ec6f-455f-8ca5-9307765b5fc4"
      },
      "execution_count": null,
      "outputs": [
        {
          "output_type": "execute_result",
          "data": {
            "text/plain": [
              "10"
            ]
          },
          "metadata": {},
          "execution_count": 64
        }
      ]
    },
    {
      "cell_type": "markdown",
      "source": [
        "3D Scatter plot of the corresponding colors in the dataset"
      ],
      "metadata": {
        "id": "jn1Pi3A5KW4G"
      }
    },
    {
      "cell_type": "code",
      "source": [
        "fig = px.scatter_3d(df, x='red', y='green', z='blue', color='color', title='3D Scatter Plot')\n",
        "fig.show()"
      ],
      "metadata": {
        "colab": {
          "base_uri": "https://localhost:8080/",
          "height": 542
        },
        "id": "HFUjjs0qbZpN",
        "outputId": "d61c6c58-0ace-43c0-fe85-302d46f67be7"
      },
      "execution_count": null,
      "outputs": [
        {
          "output_type": "display_data",
          "data": {
            "text/html": [
              "<html>\n",
              "<head><meta charset=\"utf-8\" /></head>\n",
              "<body>\n",
              "    <div>            <script src=\"https://cdnjs.cloudflare.com/ajax/libs/mathjax/2.7.5/MathJax.js?config=TeX-AMS-MML_SVG\"></script><script type=\"text/javascript\">if (window.MathJax && window.MathJax.Hub && window.MathJax.Hub.Config) {window.MathJax.Hub.Config({SVG: {font: \"STIX-Web\"}});}</script>                <script type=\"text/javascript\">window.PlotlyConfig = {MathJaxConfig: 'local'};</script>\n",
              "        <script charset=\"utf-8\" src=\"https://cdn.plot.ly/plotly-2.24.1.min.js\"></script>                <div id=\"435ad8ab-9d52-42ef-882b-fdc22c5213cb\" class=\"plotly-graph-div\" style=\"height:525px; width:100%;\"></div>            <script type=\"text/javascript\">                                    window.PLOTLYENV=window.PLOTLYENV || {};                                    if (document.getElementById(\"435ad8ab-9d52-42ef-882b-fdc22c5213cb\")) {                    Plotly.newPlot(                        \"435ad8ab-9d52-42ef-882b-fdc22c5213cb\",                        [{\"hovertemplate\":\"color=yellow\\u003cbr\\u003ered=%{x}\\u003cbr\\u003egreen=%{y}\\u003cbr\\u003eblue=%{z}\\u003cextra\\u003e\\u003c\\u002fextra\\u003e\",\"legendgroup\":\"yellow\",\"marker\":{\"color\":\"#636efa\",\"symbol\":\"circle\"},\"mode\":\"markers\",\"name\":\"yellow\",\"scene\":\"scene\",\"showlegend\":true,\"x\":[255,247,255,255,255,254,255,255,255,255,255,252,255,249,249,253,213,223,188,252,255,246,255,254],\"y\":[255,224,255,227,166,242,255,254,252,253,254,252,255,217,243,220,182,255,230,209,255,191,255,255],\"z\":[255,23,0,2,0,0,51,122,121,1,64,93,49,94,33,92,10,79,244,22,20,39,17,127],\"type\":\"scatter3d\"},{\"hovertemplate\":\"color=blue\\u003cbr\\u003ered=%{x}\\u003cbr\\u003egreen=%{y}\\u003cbr\\u003eblue=%{z}\\u003cextra\\u003e\\u003c\\u002fextra\\u003e\",\"legendgroup\":\"blue\",\"marker\":{\"color\":\"#EF553B\",\"symbol\":\"circle\"},\"mode\":\"markers\",\"name\":\"blue\",\"scene\":\"scene\",\"showlegend\":true,\"x\":[6,132,0,3,0,25,0,0,36,2,0,1,109,79,0,15,26,65,34,1,1,0,12,0],\"y\":[42,173,48,91,0,116,72,127,160,0,12,119,169,115,51,59,193,253,130,56,101,119,191,117],\"z\":[120,219,143,188,255,210,186,255,237,53,176,193,210,142,119,87,221,254,168,106,252,179,233,179],\"type\":\"scatter3d\"},{\"hovertemplate\":\"color=grey\\u003cbr\\u003ered=%{x}\\u003cbr\\u003egreen=%{y}\\u003cbr\\u003eblue=%{z}\\u003cextra\\u003e\\u003c\\u002fextra\\u003e\",\"legendgroup\":\"grey\",\"marker\":{\"color\":\"#00cc96\",\"symbol\":\"circle\"},\"mode\":\"markers\",\"name\":\"grey\",\"scene\":\"scene\",\"showlegend\":true,\"x\":[156,113,130,102,78,94,114,125,169,54,131,149,168,159,128,135,152,187,171,182],\"y\":[155,112,134,106,85,94,122,127,176,55,132,145,169,159,128,141,150,187,175,181],\"z\":[152,110,138,109,82,94,124,124,180,55,146,140,168,159,128,145,164,187,174,184],\"type\":\"scatter3d\"},{\"hovertemplate\":\"color=black\\u003cbr\\u003ered=%{x}\\u003cbr\\u003egreen=%{y}\\u003cbr\\u003eblue=%{z}\\u003cextra\\u003e\\u003c\\u002fextra\\u003e\",\"legendgroup\":\"black\",\"marker\":{\"color\":\"#ab63fa\",\"symbol\":\"circle\"},\"mode\":\"markers\",\"name\":\"black\",\"scene\":\"scene\",\"showlegend\":true,\"x\":[47,76,0,1,8,4,10,53,2,37,29,49,17,4,48,28,5,31,23],\"y\":[47,71,0,2,8,0,5,48,2,37,24,54,0,7,49,29,5,36,23],\"z\":[47,68,0,7,8,8,2,54,2,37,23,57,17,7,54,33,5,39,23],\"type\":\"scatter3d\"},{\"hovertemplate\":\"color=violet\\u003cbr\\u003ered=%{x}\\u003cbr\\u003egreen=%{y}\\u003cbr\\u003eblue=%{z}\\u003cextra\\u003e\\u003c\\u002fextra\\u003e\",\"legendgroup\":\"violet\",\"marker\":{\"color\":\"#FFA15A\",\"symbol\":\"circle\"},\"mode\":\"markers\",\"name\":\"violet\",\"scene\":\"scene\",\"showlegend\":true,\"x\":[75,145,158,188,114,156,191,127,159,127,191,122,137,120,183,164,128,154,65,128,204,173,181],\"y\":[0,0,67,19,0,81,0,0,0,62,119,84,69,81,144,66,0,44,0,55,0,10,110],\"z\":[130,255,162,254,88,182,255,255,255,152,246,127,133,169,212,160,128,160,86,144,255,253,220],\"type\":\"scatter3d\"},{\"hovertemplate\":\"color=white\\u003cbr\\u003ered=%{x}\\u003cbr\\u003egreen=%{y}\\u003cbr\\u003eblue=%{z}\\u003cextra\\u003e\\u003c\\u002fextra\\u003e\",\"legendgroup\":\"white\",\"marker\":{\"color\":\"#19d3f3\",\"symbol\":\"circle\"},\"mode\":\"markers\",\"name\":\"white\",\"scene\":\"scene\",\"showlegend\":true,\"x\":[191,214,216,198,191,229,243,192,253,217,255,188,242,205,232,210,253,201,192,236,248,197,255,250],\"y\":[200,215,217,197,189,224,239,198,252,223,237,192,233,204,234,209,251,202,192,236,249,198,255,240],\"z\":[195,210,221,198,193,221,227,201,251,224,231,204,228,208,240,205,251,209,192,236,254,199,242,230],\"type\":\"scatter3d\"},{\"hovertemplate\":\"color=red\\u003cbr\\u003ered=%{x}\\u003cbr\\u003egreen=%{y}\\u003cbr\\u003eblue=%{z}\\u003cextra\\u003e\\u003c\\u002fextra\\u003e\",\"legendgroup\":\"red\",\"marker\":{\"color\":\"#FF6692\",\"symbol\":\"circle\"},\"mode\":\"markers\",\"name\":\"red\",\"scene\":\"scene\",\"showlegend\":true,\"x\":[255,144,160,176,61,254,115,200,132,201,148,157,139,207,208,210,119,254,128,253,198,67],\"y\":[0,0,21,5,13,0,1,24,0,1,17,4,0,16,28,23,0,0,24,15,9,3],\"z\":[13,32,18,75,3,2,19,0,0,11,0,67,0,32,31,23,1,0,24,53,15,3],\"type\":\"scatter3d\"},{\"hovertemplate\":\"color=green\\u003cbr\\u003ered=%{x}\\u003cbr\\u003egreen=%{y}\\u003cbr\\u003eblue=%{z}\\u003cextra\\u003e\\u003c\\u002fextra\\u003e\",\"legendgroup\":\"green\",\"marker\":{\"color\":\"#B6E880\",\"symbol\":\"circle\"},\"mode\":\"markers\",\"name\":\"green\",\"scene\":\"scene\",\"showlegend\":true,\"x\":[102,86,0,125,0,33,17,123,24,118,159,51,3,37,125,64,102,35,0,0,60,84],\"y\":[205,130,128,232,255,83,87,252,176,181,217,184,53,202,194,189,255,67,107,100,141,172],\"z\":[170,3,1,88,0,54,74,1,75,131,140,100,0,38,75,85,0,17,60,0,13,104],\"type\":\"scatter3d\"},{\"hovertemplate\":\"color=brown\\u003cbr\\u003ered=%{x}\\u003cbr\\u003egreen=%{y}\\u003cbr\\u003eblue=%{z}\\u003cextra\\u003e\\u003c\\u002fextra\\u003e\",\"legendgroup\":\"brown\",\"marker\":{\"color\":\"#FF97FF\",\"symbol\":\"circle\"},\"mode\":\"markers\",\"name\":\"brown\",\"scene\":\"scene\",\"showlegend\":true,\"x\":[176,74,153,133,126,161,123,159,187,159,135,158,226,115,168,204,89,122,182,150,111,152,127,149,184],\"y\":[114,44,102,94,57,114,63,129,136,125,110,91,194,98,121,136,60,106,158,75,78,98,98,69,122],\"z\":[74,42,51,66,47,73,0,112,85,79,75,64,142,74,0,51,57,79,135,0,55,60,68,53,89],\"type\":\"scatter3d\"},{\"hovertemplate\":\"color=orange\\u003cbr\\u003ered=%{x}\\u003cbr\\u003egreen=%{y}\\u003cbr\\u003eblue=%{z}\\u003cextra\\u003e\\u003c\\u002fextra\\u003e\",\"legendgroup\":\"orange\",\"marker\":{\"color\":\"#FECB52\",\"symbol\":\"circle\"},\"mode\":\"markers\",\"name\":\"orange\",\"scene\":\"scene\",\"showlegend\":true,\"x\":[255,255,255,255,255,255,253,255,252,255,255,235,254,255,255,250,255,255,255,255],\"y\":[102,128,141,103,87,153,111,53,79,127,113,97,103,122,95,102,112,165,117,160],\"z\":[0,0,40,0,33,0,59,3,19,0,36,35,0,1,0,40,52,0,24,0],\"type\":\"scatter3d\"}],                        {\"template\":{\"data\":{\"histogram2dcontour\":[{\"type\":\"histogram2dcontour\",\"colorbar\":{\"outlinewidth\":0,\"ticks\":\"\"},\"colorscale\":[[0.0,\"#0d0887\"],[0.1111111111111111,\"#46039f\"],[0.2222222222222222,\"#7201a8\"],[0.3333333333333333,\"#9c179e\"],[0.4444444444444444,\"#bd3786\"],[0.5555555555555556,\"#d8576b\"],[0.6666666666666666,\"#ed7953\"],[0.7777777777777778,\"#fb9f3a\"],[0.8888888888888888,\"#fdca26\"],[1.0,\"#f0f921\"]]}],\"choropleth\":[{\"type\":\"choropleth\",\"colorbar\":{\"outlinewidth\":0,\"ticks\":\"\"}}],\"histogram2d\":[{\"type\":\"histogram2d\",\"colorbar\":{\"outlinewidth\":0,\"ticks\":\"\"},\"colorscale\":[[0.0,\"#0d0887\"],[0.1111111111111111,\"#46039f\"],[0.2222222222222222,\"#7201a8\"],[0.3333333333333333,\"#9c179e\"],[0.4444444444444444,\"#bd3786\"],[0.5555555555555556,\"#d8576b\"],[0.6666666666666666,\"#ed7953\"],[0.7777777777777778,\"#fb9f3a\"],[0.8888888888888888,\"#fdca26\"],[1.0,\"#f0f921\"]]}],\"heatmap\":[{\"type\":\"heatmap\",\"colorbar\":{\"outlinewidth\":0,\"ticks\":\"\"},\"colorscale\":[[0.0,\"#0d0887\"],[0.1111111111111111,\"#46039f\"],[0.2222222222222222,\"#7201a8\"],[0.3333333333333333,\"#9c179e\"],[0.4444444444444444,\"#bd3786\"],[0.5555555555555556,\"#d8576b\"],[0.6666666666666666,\"#ed7953\"],[0.7777777777777778,\"#fb9f3a\"],[0.8888888888888888,\"#fdca26\"],[1.0,\"#f0f921\"]]}],\"heatmapgl\":[{\"type\":\"heatmapgl\",\"colorbar\":{\"outlinewidth\":0,\"ticks\":\"\"},\"colorscale\":[[0.0,\"#0d0887\"],[0.1111111111111111,\"#46039f\"],[0.2222222222222222,\"#7201a8\"],[0.3333333333333333,\"#9c179e\"],[0.4444444444444444,\"#bd3786\"],[0.5555555555555556,\"#d8576b\"],[0.6666666666666666,\"#ed7953\"],[0.7777777777777778,\"#fb9f3a\"],[0.8888888888888888,\"#fdca26\"],[1.0,\"#f0f921\"]]}],\"contourcarpet\":[{\"type\":\"contourcarpet\",\"colorbar\":{\"outlinewidth\":0,\"ticks\":\"\"}}],\"contour\":[{\"type\":\"contour\",\"colorbar\":{\"outlinewidth\":0,\"ticks\":\"\"},\"colorscale\":[[0.0,\"#0d0887\"],[0.1111111111111111,\"#46039f\"],[0.2222222222222222,\"#7201a8\"],[0.3333333333333333,\"#9c179e\"],[0.4444444444444444,\"#bd3786\"],[0.5555555555555556,\"#d8576b\"],[0.6666666666666666,\"#ed7953\"],[0.7777777777777778,\"#fb9f3a\"],[0.8888888888888888,\"#fdca26\"],[1.0,\"#f0f921\"]]}],\"surface\":[{\"type\":\"surface\",\"colorbar\":{\"outlinewidth\":0,\"ticks\":\"\"},\"colorscale\":[[0.0,\"#0d0887\"],[0.1111111111111111,\"#46039f\"],[0.2222222222222222,\"#7201a8\"],[0.3333333333333333,\"#9c179e\"],[0.4444444444444444,\"#bd3786\"],[0.5555555555555556,\"#d8576b\"],[0.6666666666666666,\"#ed7953\"],[0.7777777777777778,\"#fb9f3a\"],[0.8888888888888888,\"#fdca26\"],[1.0,\"#f0f921\"]]}],\"mesh3d\":[{\"type\":\"mesh3d\",\"colorbar\":{\"outlinewidth\":0,\"ticks\":\"\"}}],\"scatter\":[{\"fillpattern\":{\"fillmode\":\"overlay\",\"size\":10,\"solidity\":0.2},\"type\":\"scatter\"}],\"parcoords\":[{\"type\":\"parcoords\",\"line\":{\"colorbar\":{\"outlinewidth\":0,\"ticks\":\"\"}}}],\"scatterpolargl\":[{\"type\":\"scatterpolargl\",\"marker\":{\"colorbar\":{\"outlinewidth\":0,\"ticks\":\"\"}}}],\"bar\":[{\"error_x\":{\"color\":\"#2a3f5f\"},\"error_y\":{\"color\":\"#2a3f5f\"},\"marker\":{\"line\":{\"color\":\"#E5ECF6\",\"width\":0.5},\"pattern\":{\"fillmode\":\"overlay\",\"size\":10,\"solidity\":0.2}},\"type\":\"bar\"}],\"scattergeo\":[{\"type\":\"scattergeo\",\"marker\":{\"colorbar\":{\"outlinewidth\":0,\"ticks\":\"\"}}}],\"scatterpolar\":[{\"type\":\"scatterpolar\",\"marker\":{\"colorbar\":{\"outlinewidth\":0,\"ticks\":\"\"}}}],\"histogram\":[{\"marker\":{\"pattern\":{\"fillmode\":\"overlay\",\"size\":10,\"solidity\":0.2}},\"type\":\"histogram\"}],\"scattergl\":[{\"type\":\"scattergl\",\"marker\":{\"colorbar\":{\"outlinewidth\":0,\"ticks\":\"\"}}}],\"scatter3d\":[{\"type\":\"scatter3d\",\"line\":{\"colorbar\":{\"outlinewidth\":0,\"ticks\":\"\"}},\"marker\":{\"colorbar\":{\"outlinewidth\":0,\"ticks\":\"\"}}}],\"scattermapbox\":[{\"type\":\"scattermapbox\",\"marker\":{\"colorbar\":{\"outlinewidth\":0,\"ticks\":\"\"}}}],\"scatterternary\":[{\"type\":\"scatterternary\",\"marker\":{\"colorbar\":{\"outlinewidth\":0,\"ticks\":\"\"}}}],\"scattercarpet\":[{\"type\":\"scattercarpet\",\"marker\":{\"colorbar\":{\"outlinewidth\":0,\"ticks\":\"\"}}}],\"carpet\":[{\"aaxis\":{\"endlinecolor\":\"#2a3f5f\",\"gridcolor\":\"white\",\"linecolor\":\"white\",\"minorgridcolor\":\"white\",\"startlinecolor\":\"#2a3f5f\"},\"baxis\":{\"endlinecolor\":\"#2a3f5f\",\"gridcolor\":\"white\",\"linecolor\":\"white\",\"minorgridcolor\":\"white\",\"startlinecolor\":\"#2a3f5f\"},\"type\":\"carpet\"}],\"table\":[{\"cells\":{\"fill\":{\"color\":\"#EBF0F8\"},\"line\":{\"color\":\"white\"}},\"header\":{\"fill\":{\"color\":\"#C8D4E3\"},\"line\":{\"color\":\"white\"}},\"type\":\"table\"}],\"barpolar\":[{\"marker\":{\"line\":{\"color\":\"#E5ECF6\",\"width\":0.5},\"pattern\":{\"fillmode\":\"overlay\",\"size\":10,\"solidity\":0.2}},\"type\":\"barpolar\"}],\"pie\":[{\"automargin\":true,\"type\":\"pie\"}]},\"layout\":{\"autotypenumbers\":\"strict\",\"colorway\":[\"#636efa\",\"#EF553B\",\"#00cc96\",\"#ab63fa\",\"#FFA15A\",\"#19d3f3\",\"#FF6692\",\"#B6E880\",\"#FF97FF\",\"#FECB52\"],\"font\":{\"color\":\"#2a3f5f\"},\"hovermode\":\"closest\",\"hoverlabel\":{\"align\":\"left\"},\"paper_bgcolor\":\"white\",\"plot_bgcolor\":\"#E5ECF6\",\"polar\":{\"bgcolor\":\"#E5ECF6\",\"angularaxis\":{\"gridcolor\":\"white\",\"linecolor\":\"white\",\"ticks\":\"\"},\"radialaxis\":{\"gridcolor\":\"white\",\"linecolor\":\"white\",\"ticks\":\"\"}},\"ternary\":{\"bgcolor\":\"#E5ECF6\",\"aaxis\":{\"gridcolor\":\"white\",\"linecolor\":\"white\",\"ticks\":\"\"},\"baxis\":{\"gridcolor\":\"white\",\"linecolor\":\"white\",\"ticks\":\"\"},\"caxis\":{\"gridcolor\":\"white\",\"linecolor\":\"white\",\"ticks\":\"\"}},\"coloraxis\":{\"colorbar\":{\"outlinewidth\":0,\"ticks\":\"\"}},\"colorscale\":{\"sequential\":[[0.0,\"#0d0887\"],[0.1111111111111111,\"#46039f\"],[0.2222222222222222,\"#7201a8\"],[0.3333333333333333,\"#9c179e\"],[0.4444444444444444,\"#bd3786\"],[0.5555555555555556,\"#d8576b\"],[0.6666666666666666,\"#ed7953\"],[0.7777777777777778,\"#fb9f3a\"],[0.8888888888888888,\"#fdca26\"],[1.0,\"#f0f921\"]],\"sequentialminus\":[[0.0,\"#0d0887\"],[0.1111111111111111,\"#46039f\"],[0.2222222222222222,\"#7201a8\"],[0.3333333333333333,\"#9c179e\"],[0.4444444444444444,\"#bd3786\"],[0.5555555555555556,\"#d8576b\"],[0.6666666666666666,\"#ed7953\"],[0.7777777777777778,\"#fb9f3a\"],[0.8888888888888888,\"#fdca26\"],[1.0,\"#f0f921\"]],\"diverging\":[[0,\"#8e0152\"],[0.1,\"#c51b7d\"],[0.2,\"#de77ae\"],[0.3,\"#f1b6da\"],[0.4,\"#fde0ef\"],[0.5,\"#f7f7f7\"],[0.6,\"#e6f5d0\"],[0.7,\"#b8e186\"],[0.8,\"#7fbc41\"],[0.9,\"#4d9221\"],[1,\"#276419\"]]},\"xaxis\":{\"gridcolor\":\"white\",\"linecolor\":\"white\",\"ticks\":\"\",\"title\":{\"standoff\":15},\"zerolinecolor\":\"white\",\"automargin\":true,\"zerolinewidth\":2},\"yaxis\":{\"gridcolor\":\"white\",\"linecolor\":\"white\",\"ticks\":\"\",\"title\":{\"standoff\":15},\"zerolinecolor\":\"white\",\"automargin\":true,\"zerolinewidth\":2},\"scene\":{\"xaxis\":{\"backgroundcolor\":\"#E5ECF6\",\"gridcolor\":\"white\",\"linecolor\":\"white\",\"showbackground\":true,\"ticks\":\"\",\"zerolinecolor\":\"white\",\"gridwidth\":2},\"yaxis\":{\"backgroundcolor\":\"#E5ECF6\",\"gridcolor\":\"white\",\"linecolor\":\"white\",\"showbackground\":true,\"ticks\":\"\",\"zerolinecolor\":\"white\",\"gridwidth\":2},\"zaxis\":{\"backgroundcolor\":\"#E5ECF6\",\"gridcolor\":\"white\",\"linecolor\":\"white\",\"showbackground\":true,\"ticks\":\"\",\"zerolinecolor\":\"white\",\"gridwidth\":2}},\"shapedefaults\":{\"line\":{\"color\":\"#2a3f5f\"}},\"annotationdefaults\":{\"arrowcolor\":\"#2a3f5f\",\"arrowhead\":0,\"arrowwidth\":1},\"geo\":{\"bgcolor\":\"white\",\"landcolor\":\"#E5ECF6\",\"subunitcolor\":\"white\",\"showland\":true,\"showlakes\":true,\"lakecolor\":\"white\"},\"title\":{\"x\":0.05},\"mapbox\":{\"style\":\"light\"}}},\"scene\":{\"domain\":{\"x\":[0.0,1.0],\"y\":[0.0,1.0]},\"xaxis\":{\"title\":{\"text\":\"red\"}},\"yaxis\":{\"title\":{\"text\":\"green\"}},\"zaxis\":{\"title\":{\"text\":\"blue\"}}},\"legend\":{\"title\":{\"text\":\"color\"},\"tracegroupgap\":0},\"title\":{\"text\":\"3D Scatter Plot\"}},                        {\"responsive\": true}                    ).then(function(){\n",
              "                            \n",
              "var gd = document.getElementById('435ad8ab-9d52-42ef-882b-fdc22c5213cb');\n",
              "var x = new MutationObserver(function (mutations, observer) {{\n",
              "        var display = window.getComputedStyle(gd).display;\n",
              "        if (!display || display === 'none') {{\n",
              "            console.log([gd, 'removed!']);\n",
              "            Plotly.purge(gd);\n",
              "            observer.disconnect();\n",
              "        }}\n",
              "}});\n",
              "\n",
              "// Listen for the removal of the full notebook cells\n",
              "var notebookContainer = gd.closest('#notebook-container');\n",
              "if (notebookContainer) {{\n",
              "    x.observe(notebookContainer, {childList: true});\n",
              "}}\n",
              "\n",
              "// Listen for the clearing of the current output cell\n",
              "var outputEl = gd.closest('.output');\n",
              "if (outputEl) {{\n",
              "    x.observe(outputEl, {childList: true});\n",
              "}}\n",
              "\n",
              "                        })                };                            </script>        </div>\n",
              "</body>\n",
              "</html>"
            ]
          },
          "metadata": {}
        }
      ]
    },
    {
      "cell_type": "code",
      "source": [
        "X = df.iloc[:, 0:3]\n",
        "y= df.iloc[:, -1]"
      ],
      "metadata": {
        "id": "--xTS8LNcqPg"
      },
      "execution_count": null,
      "outputs": []
    },
    {
      "cell_type": "markdown",
      "source": [
        "Train Test Split"
      ],
      "metadata": {
        "id": "tfg8AyqYKe3-"
      }
    },
    {
      "cell_type": "code",
      "source": [
        "X_train, X_test, y_train, y_test = train_test_split(X, y, test_size=0.3, random_state=1)"
      ],
      "metadata": {
        "id": "rM39nqQcdJVT"
      },
      "execution_count": null,
      "outputs": []
    },
    {
      "cell_type": "markdown",
      "source": [
        "KNN Model Creation"
      ],
      "metadata": {
        "id": "_3vBI_USKiS8"
      }
    },
    {
      "cell_type": "markdown",
      "source": [
        "\n",
        "Selecting the K value with the highest accuracy by plotting a graph\n"
      ],
      "metadata": {
        "id": "fCRmZGBgKsdz"
      }
    },
    {
      "cell_type": "code",
      "source": [
        "k_values = range(1, 31)\n",
        "accuracy_scores = []\n",
        "\n",
        "for k in k_values:\n",
        "    knn = KNeighborsClassifier(n_neighbors=k, weights='distance', metric='euclidean')\n",
        "    knn.fit(X_train, y_train)\n",
        "    y_pred = knn.predict(X_test)\n",
        "    accuracy = accuracy_score(y_test, y_pred)\n",
        "    accuracy_scores.append(accuracy)\n",
        "\n",
        "plt.figure(figsize=(10, 6))\n",
        "plt.plot(k_values, accuracy_scores, marker='o', linestyle='-', color='b')\n",
        "plt.title('Accuracy vs. Number of Neighbors (k)')\n",
        "plt.xlabel('Number of Neighbors (k)')\n",
        "plt.ylabel('Accuracy')\n",
        "plt.grid(True)\n",
        "plt.xticks(k_values)\n",
        "plt.show()"
      ],
      "metadata": {
        "colab": {
          "base_uri": "https://localhost:8080/",
          "height": 564
        },
        "id": "pGSy0DCadlzV",
        "outputId": "69f5e7b9-c52f-4f50-aa1f-41f329b45acc"
      },
      "execution_count": null,
      "outputs": [
        {
          "output_type": "display_data",
          "data": {
            "text/plain": [
              "<Figure size 1000x600 with 1 Axes>"
            ],
            "image/png": "[encoded data removed]"
          },
          "metadata": {}
        }
      ]
    },
    {
      "cell_type": "markdown",
      "source": [
        "k=2 is chosen since it has higher accuracy"
      ],
      "metadata": {
        "id": "tMqef9tueAzR"
      }
    },
    {
      "cell_type": "markdown",
      "source": [
        "Model Building"
      ],
      "metadata": {
        "id": "hpS_-Kdod-EW"
      }
    },
    {
      "cell_type": "code",
      "source": [
        "knn = KNeighborsClassifier(n_neighbors=2, weights='distance', metric='euclidean')\n",
        "knn = knn.fit(X_train, y_train)"
      ],
      "metadata": {
        "id": "F642vYQDd7KM"
      },
      "execution_count": null,
      "outputs": []
    },
    {
      "cell_type": "markdown",
      "source": [
        "Predicting the model"
      ],
      "metadata": {
        "id": "BvR5JuHIsbmb"
      }
    },
    {
      "cell_type": "code",
      "source": [
        "y_pred = knn.predict(X_test)"
      ],
      "metadata": {
        "id": "e1HTYMgAeLpw"
      },
      "execution_count": null,
      "outputs": []
    },
    {
      "cell_type": "markdown",
      "source": [
        "Accuracy"
      ],
      "metadata": {
        "id": "BH8v7ag2LAcj"
      }
    },
    {
      "cell_type": "code",
      "source": [
        "accuracy_score(y_test, y_pred)"
      ],
      "metadata": {
        "colab": {
          "base_uri": "https://localhost:8080/"
        },
        "id": "vE7pwr6ei94t",
        "outputId": "6da4e6d9-3015-42bb-9ca8-13850872a01b"
      },
      "execution_count": null,
      "outputs": [
        {
          "output_type": "execute_result",
          "data": {
            "text/plain": [
              "0.9104477611940298"
            ]
          },
          "metadata": {},
          "execution_count": 88
        }
      ]
    },
    {
      "cell_type": "markdown",
      "source": [
        "Function for Testing the image with Custom Input"
      ],
      "metadata": {
        "id": "mLAtvlvPj0nM"
      }
    },
    {
      "cell_type": "code",
      "source": [
        "def test(imagepath,model):\n",
        "\n",
        "    img=Image.open(imagepath)\n",
        "    img = Image.open(image_path)\n",
        "    plt.imshow(img)\n",
        "    plt.show()\n",
        "    # Load the image using cv2.imread\n",
        "    image = cv2.imread(imagepath)\n",
        "\n",
        "    if image is not None:\n",
        "        # Extract RGB values\n",
        "        rgb_values = image[0][0]\n",
        "\n",
        "        # Convert the RGB values into a DataFrame with feature names\n",
        "        rgb_df = pd.DataFrame([rgb_values], columns=['red', 'green', 'blue'])\n",
        "\n",
        "        # Print the RGB values\n",
        "        print(f\"RGB values: {rgb_df.values[0]}\")\n",
        "\n",
        "        # Use the passed KNN model for prediction\n",
        "        prediction =model.predict(rgb_df)\n",
        "\n",
        "        # Print the prediction\n",
        "        print(f\"Prediction: {prediction[0]}\")\n",
        "    else:\n",
        "        print(\"Image not found or could not be loaded.\")"
      ],
      "metadata": {
        "id": "VdoyZc2kkEac"
      },
      "execution_count": null,
      "outputs": []
    },
    {
      "cell_type": "code",
      "source": [
        "test('green.png',knn)"
      ],
      "metadata": {
        "colab": {
          "base_uri": "https://localhost:8080/",
          "height": 469
        },
        "id": "fnk3tyCcjpf9",
        "outputId": "611ea9e6-3ff8-4f18-8281-d5e1b3c2fc85"
      },
      "execution_count": null,
      "outputs": [
        {
          "output_type": "display_data",
          "data": {
            "text/plain": [
              "<Figure size 640x480 with 1 Axes>"
            ],
            "image/png": "[encoded data removed]"
          },
          "metadata": {}
        },
        {
          "output_type": "stream",
          "name": "stdout",
          "text": [
            "RGB values: [  0 100   0]\n",
            "Prediction: green\n"
          ]
        }
      ]
    }
  ]
}